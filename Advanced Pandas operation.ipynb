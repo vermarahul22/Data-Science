{
 "cells": [
  {
   "cell_type": "markdown",
   "metadata": {},
   "source": [
    "## Table of Content\n",
    "1. **[Concatenate](#Concatenate)**\n",
    "2. **[Merging and Joining](#Merging)**\n",
    "3. **[Pivot Table](#Pivote)**\n",
    "4. **[Cross Table](#crosst)**\n",
    "5. **[Duplicate](#Duplicate)**\n",
    "6. **[Dropping Rows and Columns](#drop)**\n",
    "7. **[Map and Replace](#Map)**\n",
    "8. **[Groupby in Pandas](#Groupby)**\n",
    "9. **[Plots using Matplotlib ](#matplotlib)**"
   ]
  },
  {
   "cell_type": "markdown",
   "metadata": {},
   "source": [
    "<a id=\"Concatenate\"> </a>\n",
    "### 1. Concatenate\n",
    "\n",
    "Concatenation is a process of joining objects along a particular axis, with set logic applied along the other axes, if any (a series does not have any other axes)<br>\n",
    "                   The main parameters involved in pandas concatenation are - object, axis, handling of other axes, and keys."
   ]
  },
  {
   "cell_type": "markdown",
   "metadata": {},
   "source": [
    "**Concatenate pandas Series**"
   ]
  },
  {
   "cell_type": "code",
   "execution_count": 1,
   "metadata": {},
   "outputs": [],
   "source": [
    "# import the library pandas as pd\n",
    "import pandas as pd\n",
    "\n",
    "# import the library NumPy as np\n",
    "import numpy as np"
   ]
  },
  {
   "cell_type": "code",
   "execution_count": 2,
   "metadata": {},
   "outputs": [],
   "source": [
    "# create a series from list\n",
    "sales_a = pd.Series([101,102,103,104,105,106])\n",
    "\n",
    "# create another series from list\n",
    "sales_b = pd.Series([107,108,109,110,111,112])"
   ]
  },
  {
   "cell_type": "code",
   "execution_count": 3,
   "metadata": {},
   "outputs": [
    {
     "data": {
      "text/plain": [
       "0    101\n",
       "1    102\n",
       "2    103\n",
       "3    104\n",
       "4    105\n",
       "5    106\n",
       "0    107\n",
       "1    108\n",
       "2    109\n",
       "3    110\n",
       "4    111\n",
       "5    112\n",
       "dtype: int64"
      ]
     },
     "execution_count": 3,
     "metadata": {},
     "output_type": "execute_result"
    }
   ],
   "source": [
    "# concatenate the pandas series\n",
    "pd.concat([sales_a,sales_b])"
   ]
  },
  {
   "cell_type": "markdown",
   "metadata": {},
   "source": [
    "**Add a hierarchical index to a pandas Series**"
   ]
  },
  {
   "cell_type": "code",
   "execution_count": 4,
   "metadata": {},
   "outputs": [
    {
     "data": {
      "text/plain": [
       "a  0    101\n",
       "   1    102\n",
       "   2    103\n",
       "   3    104\n",
       "   4    105\n",
       "   5    106\n",
       "b  0    107\n",
       "   1    108\n",
       "   2    109\n",
       "   3    110\n",
       "   4    111\n",
       "   5    112\n",
       "dtype: int64"
      ]
     },
     "execution_count": 4,
     "metadata": {},
     "output_type": "execute_result"
    }
   ],
   "source": [
    "# concatenate the series \n",
    "# keys adds hierarchical indexes\n",
    "pd.concat([sales_a,sales_b], keys = ['a', 'b'])"
   ]
  },
  {
   "cell_type": "markdown",
   "metadata": {},
   "source": [
    "**Label the index**"
   ]
  },
  {
   "cell_type": "code",
   "execution_count": 5,
   "metadata": {},
   "outputs": [
    {
     "data": {
      "text/plain": [
       "Series  Row ID\n",
       "a       0         101\n",
       "        1         102\n",
       "        2         103\n",
       "        3         104\n",
       "        4         105\n",
       "        5         106\n",
       "b       0         107\n",
       "        1         108\n",
       "        2         109\n",
       "        3         110\n",
       "        4         111\n",
       "        5         112\n",
       "dtype: int64"
      ]
     },
     "execution_count": 5,
     "metadata": {},
     "output_type": "execute_result"
    }
   ],
   "source": [
    "# 'names' parameter assigns labels to 'keys' and 'indexes'\n",
    "pd.concat([sales_a, sales_b], keys=['a', 'b'], names=['Series', 'Row ID'])"
   ]
  },
  {
   "cell_type": "markdown",
   "metadata": {},
   "source": [
    "**Concatenating DataFrames**\n",
    "\n",
    "To concatenate DataFrames, let us first create three DataFrame\n",
    "1. df_prof_info_A: professional information on employees of company A\n",
    "2. df_prof_info_B: professional information on employees of company B\n",
    "3. df_pers_info_A: personal information on employees of company A\n"
   ]
  },
  {
   "cell_type": "code",
   "execution_count": 6,
   "metadata": {},
   "outputs": [
    {
     "name": "stdout",
     "output_type": "stream",
     "text": [
      "The first DataFrame is : \n",
      "      Emp_ID     Name Gender  Company  Salary\n",
      "101    1001     Alex      M    Apple   67000\n",
      "102    1002      Amy      F  Walmart   90000\n",
      "103    1003    Allen      M    Intel   87000\n",
      "104    1004    Alice      F  Cummins   69000\n",
      "105    1005  Stephan      M     Ford   78000\n",
      "\n",
      "\n",
      "\n",
      "The second DataFrame is : \n",
      "      Emp_ID   Name Gender    Company  Salary\n",
      "106    1006  Billy      M  Cognizant   89000\n",
      "107    1007  Brian      M      Apple   80000\n",
      "108    1008   Bran      M      Intel   79000\n",
      "109    1009  Bryce      F    Cummins   97000\n",
      "110    1010  Betty      F    Walmart   88000\n",
      "111    1011  James      M      Intel   89000\n",
      "\n",
      "\n",
      "\n",
      "The third DataFrame is : \n",
      "      Emp_ID       Hometown Gender   Marital  Dependents\n",
      "101    1001       New York      M   Married           1\n",
      "102    1002         London      F  Divorsed           1\n",
      "103    1003  San Francisco      M    Single           3\n",
      "104    1004        Seattle      F   Married           2\n",
      "105    1005         Madrid      M    Single           1\n",
      "\n",
      "\n",
      "\n",
      "The fourth DataFrame is : \n",
      "      Emp_ID       Hometown   Marital  Dependents\n",
      "101    1006          Paris   Married           1\n",
      "102    1007         Boston  Divorsed           1\n",
      "103    1009  San Francisco    Single           3\n",
      "104    1010        Seattle   Married           2\n",
      "105    1011         London    Single           1\n",
      "106    1012         London    Single           2\n"
     ]
    }
   ],
   "source": [
    "# create a DataFrame from a dictionary\n",
    "df_prof_info_A = pd.DataFrame({\n",
    "   'Emp_ID': [1001,1002,1003,1004,1005],\n",
    "   'Name': ['Alex', 'Amy', 'Allen', 'Alice', 'Stephan'],\n",
    "   'Gender':['M', 'F', 'M', 'F', 'M'],\n",
    "   'Company':['Apple','Walmart','Intel','Cummins','Ford'],\n",
    "   'Salary':[67000,90000,87000,69000,78000]},\n",
    "   index=[101,102,103,104,105])\n",
    "\n",
    "# print the DataFrame\n",
    "print(\"The first DataFrame is : \\n\",df_prof_info_A)\n",
    "\n",
    "print(\"\\n\\n\")\n",
    "\n",
    "# create a DataFrame from a dictionary\n",
    "df_prof_info_B = pd.DataFrame({\n",
    "    'Emp_ID': [1006,1007,1008,1009,1010,1011],\n",
    "   'Name': ['Billy', 'Brian', 'Bran', 'Bryce', 'Betty','James'],\n",
    "    'Gender':['M', 'M', 'M', 'F', 'F','M'],\n",
    "   'Company':['Cognizant','Apple','Intel','Cummins','Walmart','Intel'],\n",
    "   'Salary':[89000,80000,79000,97000,88000,89000]},\n",
    "   index=[106,107,108,109,110,111])\n",
    "\n",
    "# print the DataFrame\n",
    "print(\"The second DataFrame is : \\n\",df_prof_info_B)\n",
    "\n",
    "print(\"\\n\\n\")\n",
    "\n",
    "# create a DataFrame from a dictionary\n",
    "df_pers_info_A = pd.DataFrame({\n",
    "     'Emp_ID': [1001,1002,1003,1004,1005],\n",
    "   'Hometown': ['New York', 'London', 'San Francisco', 'Seattle', 'Madrid'],\n",
    "     'Gender':['M', 'F', 'M', 'F', 'M'],\n",
    "    'Marital':['Married','Divorsed','Single','Married','Single'],\n",
    "   'Dependents':[1,1,3,2,1]},\n",
    "   index=[101,102,103,104,105])\n",
    "\n",
    "# print the DataFrame\n",
    "print(\"The third DataFrame is : \\n\",df_pers_info_A)\n",
    "\n",
    "print(\"\\n\\n\")\n",
    "\n",
    "# create a DataFrame from a dictionary\n",
    "df_pers_info_B = pd.DataFrame({\n",
    "     'Emp_ID': [1006,1007,1009,1010,1011,1012],\n",
    "   'Hometown': ['Paris', 'Boston', 'San Francisco', 'Seattle', 'London','London'],\n",
    "    'Marital':['Married','Divorsed','Single','Married','Single','Single'],\n",
    "   'Dependents':[1,1,3,2,1,2]},\n",
    "   index=[101,102,103,104,105,106])\n",
    "\n",
    "# print the DataFrame\n",
    "print(\"The fourth DataFrame is : \\n\",df_pers_info_B)"
   ]
  },
  {
   "cell_type": "markdown",
   "metadata": {},
   "source": [
    "**Concatenating pandas DataFrames using `.concat()`**"
   ]
  },
  {
   "cell_type": "markdown",
   "metadata": {},
   "source": [
    "**Combine DataFrames vertically**"
   ]
  },
  {
   "cell_type": "code",
   "execution_count": 7,
   "metadata": {},
   "outputs": [
    {
     "name": "stdout",
     "output_type": "stream",
     "text": [
      "     Emp_ID     Name Gender    Company  Salary\n",
      "101    1001     Alex      M      Apple   67000\n",
      "102    1002      Amy      F    Walmart   90000\n",
      "103    1003    Allen      M      Intel   87000\n",
      "104    1004    Alice      F    Cummins   69000\n",
      "105    1005  Stephan      M       Ford   78000\n",
      "106    1006    Billy      M  Cognizant   89000\n",
      "107    1007    Brian      M      Apple   80000\n",
      "108    1008     Bran      M      Intel   79000\n",
      "109    1009    Bryce      F    Cummins   97000\n",
      "110    1010    Betty      F    Walmart   88000\n",
      "111    1011    James      M      Intel   89000\n"
     ]
    }
   ],
   "source": [
    "# concatenate the data frame\n",
    "print(pd.concat([df_prof_info_A,df_prof_info_B]))"
   ]
  },
  {
   "cell_type": "markdown",
   "metadata": {},
   "source": [
    "**Combine DataFrames horizontally**"
   ]
  },
  {
   "cell_type": "code",
   "execution_count": 8,
   "metadata": {
    "scrolled": true
   },
   "outputs": [
    {
     "data": {
      "text/html": [
       "<div>\n",
       "<style scoped>\n",
       "    .dataframe tbody tr th:only-of-type {\n",
       "        vertical-align: middle;\n",
       "    }\n",
       "\n",
       "    .dataframe tbody tr th {\n",
       "        vertical-align: top;\n",
       "    }\n",
       "\n",
       "    .dataframe thead th {\n",
       "        text-align: right;\n",
       "    }\n",
       "</style>\n",
       "<table border=\"1\" class=\"dataframe\">\n",
       "  <thead>\n",
       "    <tr style=\"text-align: right;\">\n",
       "      <th></th>\n",
       "      <th>Emp_ID</th>\n",
       "      <th>Name</th>\n",
       "      <th>Gender</th>\n",
       "      <th>Company</th>\n",
       "      <th>Salary</th>\n",
       "      <th>Emp_ID</th>\n",
       "      <th>Hometown</th>\n",
       "      <th>Gender</th>\n",
       "      <th>Marital</th>\n",
       "      <th>Dependents</th>\n",
       "    </tr>\n",
       "  </thead>\n",
       "  <tbody>\n",
       "    <tr>\n",
       "      <td>101</td>\n",
       "      <td>1001</td>\n",
       "      <td>Alex</td>\n",
       "      <td>M</td>\n",
       "      <td>Apple</td>\n",
       "      <td>67000</td>\n",
       "      <td>1001</td>\n",
       "      <td>New York</td>\n",
       "      <td>M</td>\n",
       "      <td>Married</td>\n",
       "      <td>1</td>\n",
       "    </tr>\n",
       "    <tr>\n",
       "      <td>102</td>\n",
       "      <td>1002</td>\n",
       "      <td>Amy</td>\n",
       "      <td>F</td>\n",
       "      <td>Walmart</td>\n",
       "      <td>90000</td>\n",
       "      <td>1002</td>\n",
       "      <td>London</td>\n",
       "      <td>F</td>\n",
       "      <td>Divorsed</td>\n",
       "      <td>1</td>\n",
       "    </tr>\n",
       "    <tr>\n",
       "      <td>103</td>\n",
       "      <td>1003</td>\n",
       "      <td>Allen</td>\n",
       "      <td>M</td>\n",
       "      <td>Intel</td>\n",
       "      <td>87000</td>\n",
       "      <td>1003</td>\n",
       "      <td>San Francisco</td>\n",
       "      <td>M</td>\n",
       "      <td>Single</td>\n",
       "      <td>3</td>\n",
       "    </tr>\n",
       "    <tr>\n",
       "      <td>104</td>\n",
       "      <td>1004</td>\n",
       "      <td>Alice</td>\n",
       "      <td>F</td>\n",
       "      <td>Cummins</td>\n",
       "      <td>69000</td>\n",
       "      <td>1004</td>\n",
       "      <td>Seattle</td>\n",
       "      <td>F</td>\n",
       "      <td>Married</td>\n",
       "      <td>2</td>\n",
       "    </tr>\n",
       "    <tr>\n",
       "      <td>105</td>\n",
       "      <td>1005</td>\n",
       "      <td>Stephan</td>\n",
       "      <td>M</td>\n",
       "      <td>Ford</td>\n",
       "      <td>78000</td>\n",
       "      <td>1005</td>\n",
       "      <td>Madrid</td>\n",
       "      <td>M</td>\n",
       "      <td>Single</td>\n",
       "      <td>1</td>\n",
       "    </tr>\n",
       "  </tbody>\n",
       "</table>\n",
       "</div>"
      ],
      "text/plain": [
       "     Emp_ID     Name Gender  Company  Salary  Emp_ID       Hometown Gender  \\\n",
       "101    1001     Alex      M    Apple   67000    1001       New York      M   \n",
       "102    1002      Amy      F  Walmart   90000    1002         London      F   \n",
       "103    1003    Allen      M    Intel   87000    1003  San Francisco      M   \n",
       "104    1004    Alice      F  Cummins   69000    1004        Seattle      F   \n",
       "105    1005  Stephan      M     Ford   78000    1005         Madrid      M   \n",
       "\n",
       "      Marital  Dependents  \n",
       "101   Married           1  \n",
       "102  Divorsed           1  \n",
       "103    Single           3  \n",
       "104   Married           2  \n",
       "105    Single           1  "
      ]
     },
     "execution_count": 8,
     "metadata": {},
     "output_type": "execute_result"
    }
   ],
   "source": [
    "# combine Pandas Dataframes horizontally\n",
    "# axis specifies the axis to concatenate along, here 1 indicates columns\n",
    "pd.concat([df_prof_info_A, df_pers_info_A], axis=1)"
   ]
  },
  {
   "cell_type": "markdown",
   "metadata": {},
   "source": [
    "Combining DataFrames horizontally with duplicate columns removed."
   ]
  },
  {
   "cell_type": "code",
   "execution_count": 9,
   "metadata": {},
   "outputs": [
    {
     "data": {
      "text/html": [
       "<div>\n",
       "<style scoped>\n",
       "    .dataframe tbody tr th:only-of-type {\n",
       "        vertical-align: middle;\n",
       "    }\n",
       "\n",
       "    .dataframe tbody tr th {\n",
       "        vertical-align: top;\n",
       "    }\n",
       "\n",
       "    .dataframe thead th {\n",
       "        text-align: right;\n",
       "    }\n",
       "</style>\n",
       "<table border=\"1\" class=\"dataframe\">\n",
       "  <thead>\n",
       "    <tr style=\"text-align: right;\">\n",
       "      <th></th>\n",
       "      <th>Emp_ID</th>\n",
       "      <th>Name</th>\n",
       "      <th>Gender</th>\n",
       "      <th>Company</th>\n",
       "      <th>Salary</th>\n",
       "      <th>Hometown</th>\n",
       "      <th>Marital</th>\n",
       "      <th>Dependents</th>\n",
       "    </tr>\n",
       "  </thead>\n",
       "  <tbody>\n",
       "    <tr>\n",
       "      <td>101</td>\n",
       "      <td>1001</td>\n",
       "      <td>Alex</td>\n",
       "      <td>M</td>\n",
       "      <td>Apple</td>\n",
       "      <td>67000</td>\n",
       "      <td>New York</td>\n",
       "      <td>Married</td>\n",
       "      <td>1</td>\n",
       "    </tr>\n",
       "    <tr>\n",
       "      <td>102</td>\n",
       "      <td>1002</td>\n",
       "      <td>Amy</td>\n",
       "      <td>F</td>\n",
       "      <td>Walmart</td>\n",
       "      <td>90000</td>\n",
       "      <td>London</td>\n",
       "      <td>Divorsed</td>\n",
       "      <td>1</td>\n",
       "    </tr>\n",
       "    <tr>\n",
       "      <td>103</td>\n",
       "      <td>1003</td>\n",
       "      <td>Allen</td>\n",
       "      <td>M</td>\n",
       "      <td>Intel</td>\n",
       "      <td>87000</td>\n",
       "      <td>San Francisco</td>\n",
       "      <td>Single</td>\n",
       "      <td>3</td>\n",
       "    </tr>\n",
       "    <tr>\n",
       "      <td>104</td>\n",
       "      <td>1004</td>\n",
       "      <td>Alice</td>\n",
       "      <td>F</td>\n",
       "      <td>Cummins</td>\n",
       "      <td>69000</td>\n",
       "      <td>Seattle</td>\n",
       "      <td>Married</td>\n",
       "      <td>2</td>\n",
       "    </tr>\n",
       "    <tr>\n",
       "      <td>105</td>\n",
       "      <td>1005</td>\n",
       "      <td>Stephan</td>\n",
       "      <td>M</td>\n",
       "      <td>Ford</td>\n",
       "      <td>78000</td>\n",
       "      <td>Madrid</td>\n",
       "      <td>Single</td>\n",
       "      <td>1</td>\n",
       "    </tr>\n",
       "  </tbody>\n",
       "</table>\n",
       "</div>"
      ],
      "text/plain": [
       "    Emp_ID     Name Gender  Company Salary       Hometown   Marital Dependents\n",
       "101   1001     Alex      M    Apple  67000       New York   Married          1\n",
       "102   1002      Amy      F  Walmart  90000         London  Divorsed          1\n",
       "103   1003    Allen      M    Intel  87000  San Francisco    Single          3\n",
       "104   1004    Alice      F  Cummins  69000        Seattle   Married          2\n",
       "105   1005  Stephan      M     Ford  78000         Madrid    Single          1"
      ]
     },
     "execution_count": 9,
     "metadata": {},
     "output_type": "execute_result"
    }
   ],
   "source": [
    "# combine DataFrame with duplicate columns removed\n",
    "# T: transposes the DataFrame\n",
    "# drop_duplicates(): drops the duplicate rows in a DataFrame\n",
    "pd.concat([df_prof_info_A, df_pers_info_A], axis=1).T.drop_duplicates().T"
   ]
  },
  {
   "cell_type": "markdown",
   "metadata": {},
   "source": [
    "**Concatenating data frames ignoring index values**"
   ]
  },
  {
   "cell_type": "code",
   "execution_count": 10,
   "metadata": {
    "scrolled": true
   },
   "outputs": [
    {
     "data": {
      "text/html": [
       "<div>\n",
       "<style scoped>\n",
       "    .dataframe tbody tr th:only-of-type {\n",
       "        vertical-align: middle;\n",
       "    }\n",
       "\n",
       "    .dataframe tbody tr th {\n",
       "        vertical-align: top;\n",
       "    }\n",
       "\n",
       "    .dataframe thead th {\n",
       "        text-align: right;\n",
       "    }\n",
       "</style>\n",
       "<table border=\"1\" class=\"dataframe\">\n",
       "  <thead>\n",
       "    <tr style=\"text-align: right;\">\n",
       "      <th></th>\n",
       "      <th>Emp_ID</th>\n",
       "      <th>Name</th>\n",
       "      <th>Gender</th>\n",
       "      <th>Company</th>\n",
       "      <th>Salary</th>\n",
       "    </tr>\n",
       "  </thead>\n",
       "  <tbody>\n",
       "    <tr>\n",
       "      <td>0</td>\n",
       "      <td>1001</td>\n",
       "      <td>Alex</td>\n",
       "      <td>M</td>\n",
       "      <td>Apple</td>\n",
       "      <td>67000</td>\n",
       "    </tr>\n",
       "    <tr>\n",
       "      <td>1</td>\n",
       "      <td>1002</td>\n",
       "      <td>Amy</td>\n",
       "      <td>F</td>\n",
       "      <td>Walmart</td>\n",
       "      <td>90000</td>\n",
       "    </tr>\n",
       "    <tr>\n",
       "      <td>2</td>\n",
       "      <td>1003</td>\n",
       "      <td>Allen</td>\n",
       "      <td>M</td>\n",
       "      <td>Intel</td>\n",
       "      <td>87000</td>\n",
       "    </tr>\n",
       "    <tr>\n",
       "      <td>3</td>\n",
       "      <td>1004</td>\n",
       "      <td>Alice</td>\n",
       "      <td>F</td>\n",
       "      <td>Cummins</td>\n",
       "      <td>69000</td>\n",
       "    </tr>\n",
       "    <tr>\n",
       "      <td>4</td>\n",
       "      <td>1005</td>\n",
       "      <td>Stephan</td>\n",
       "      <td>M</td>\n",
       "      <td>Ford</td>\n",
       "      <td>78000</td>\n",
       "    </tr>\n",
       "    <tr>\n",
       "      <td>5</td>\n",
       "      <td>1006</td>\n",
       "      <td>Billy</td>\n",
       "      <td>M</td>\n",
       "      <td>Cognizant</td>\n",
       "      <td>89000</td>\n",
       "    </tr>\n",
       "    <tr>\n",
       "      <td>6</td>\n",
       "      <td>1007</td>\n",
       "      <td>Brian</td>\n",
       "      <td>M</td>\n",
       "      <td>Apple</td>\n",
       "      <td>80000</td>\n",
       "    </tr>\n",
       "    <tr>\n",
       "      <td>7</td>\n",
       "      <td>1008</td>\n",
       "      <td>Bran</td>\n",
       "      <td>M</td>\n",
       "      <td>Intel</td>\n",
       "      <td>79000</td>\n",
       "    </tr>\n",
       "    <tr>\n",
       "      <td>8</td>\n",
       "      <td>1009</td>\n",
       "      <td>Bryce</td>\n",
       "      <td>F</td>\n",
       "      <td>Cummins</td>\n",
       "      <td>97000</td>\n",
       "    </tr>\n",
       "    <tr>\n",
       "      <td>9</td>\n",
       "      <td>1010</td>\n",
       "      <td>Betty</td>\n",
       "      <td>F</td>\n",
       "      <td>Walmart</td>\n",
       "      <td>88000</td>\n",
       "    </tr>\n",
       "    <tr>\n",
       "      <td>10</td>\n",
       "      <td>1011</td>\n",
       "      <td>James</td>\n",
       "      <td>M</td>\n",
       "      <td>Intel</td>\n",
       "      <td>89000</td>\n",
       "    </tr>\n",
       "  </tbody>\n",
       "</table>\n",
       "</div>"
      ],
      "text/plain": [
       "    Emp_ID     Name Gender    Company  Salary\n",
       "0     1001     Alex      M      Apple   67000\n",
       "1     1002      Amy      F    Walmart   90000\n",
       "2     1003    Allen      M      Intel   87000\n",
       "3     1004    Alice      F    Cummins   69000\n",
       "4     1005  Stephan      M       Ford   78000\n",
       "5     1006    Billy      M  Cognizant   89000\n",
       "6     1007    Brian      M      Apple   80000\n",
       "7     1008     Bran      M      Intel   79000\n",
       "8     1009    Bryce      F    Cummins   97000\n",
       "9     1010    Betty      F    Walmart   88000\n",
       "10    1011    James      M      Intel   89000"
      ]
     },
     "execution_count": 10,
     "metadata": {},
     "output_type": "execute_result"
    }
   ],
   "source": [
    "# concatenate DataFrames\n",
    "# ignore_index if True, assigns index values begining with zero\n",
    "pd.concat([df_prof_info_A, df_prof_info_B], ignore_index=True)"
   ]
  },
  {
   "cell_type": "markdown",
   "metadata": {},
   "source": [
    "**Concatenating Pandas Dataframes using `.append()`**"
   ]
  },
  {
   "cell_type": "code",
   "execution_count": 11,
   "metadata": {},
   "outputs": [
    {
     "data": {
      "text/html": [
       "<div>\n",
       "<style scoped>\n",
       "    .dataframe tbody tr th:only-of-type {\n",
       "        vertical-align: middle;\n",
       "    }\n",
       "\n",
       "    .dataframe tbody tr th {\n",
       "        vertical-align: top;\n",
       "    }\n",
       "\n",
       "    .dataframe thead th {\n",
       "        text-align: right;\n",
       "    }\n",
       "</style>\n",
       "<table border=\"1\" class=\"dataframe\">\n",
       "  <thead>\n",
       "    <tr style=\"text-align: right;\">\n",
       "      <th></th>\n",
       "      <th>Emp_ID</th>\n",
       "      <th>Name</th>\n",
       "      <th>Gender</th>\n",
       "      <th>Company</th>\n",
       "      <th>Salary</th>\n",
       "    </tr>\n",
       "  </thead>\n",
       "  <tbody>\n",
       "    <tr>\n",
       "      <td>101</td>\n",
       "      <td>1001</td>\n",
       "      <td>Alex</td>\n",
       "      <td>M</td>\n",
       "      <td>Apple</td>\n",
       "      <td>67000</td>\n",
       "    </tr>\n",
       "    <tr>\n",
       "      <td>102</td>\n",
       "      <td>1002</td>\n",
       "      <td>Amy</td>\n",
       "      <td>F</td>\n",
       "      <td>Walmart</td>\n",
       "      <td>90000</td>\n",
       "    </tr>\n",
       "    <tr>\n",
       "      <td>103</td>\n",
       "      <td>1003</td>\n",
       "      <td>Allen</td>\n",
       "      <td>M</td>\n",
       "      <td>Intel</td>\n",
       "      <td>87000</td>\n",
       "    </tr>\n",
       "    <tr>\n",
       "      <td>104</td>\n",
       "      <td>1004</td>\n",
       "      <td>Alice</td>\n",
       "      <td>F</td>\n",
       "      <td>Cummins</td>\n",
       "      <td>69000</td>\n",
       "    </tr>\n",
       "    <tr>\n",
       "      <td>105</td>\n",
       "      <td>1005</td>\n",
       "      <td>Stephan</td>\n",
       "      <td>M</td>\n",
       "      <td>Ford</td>\n",
       "      <td>78000</td>\n",
       "    </tr>\n",
       "    <tr>\n",
       "      <td>106</td>\n",
       "      <td>1006</td>\n",
       "      <td>Billy</td>\n",
       "      <td>M</td>\n",
       "      <td>Cognizant</td>\n",
       "      <td>89000</td>\n",
       "    </tr>\n",
       "    <tr>\n",
       "      <td>107</td>\n",
       "      <td>1007</td>\n",
       "      <td>Brian</td>\n",
       "      <td>M</td>\n",
       "      <td>Apple</td>\n",
       "      <td>80000</td>\n",
       "    </tr>\n",
       "    <tr>\n",
       "      <td>108</td>\n",
       "      <td>1008</td>\n",
       "      <td>Bran</td>\n",
       "      <td>M</td>\n",
       "      <td>Intel</td>\n",
       "      <td>79000</td>\n",
       "    </tr>\n",
       "    <tr>\n",
       "      <td>109</td>\n",
       "      <td>1009</td>\n",
       "      <td>Bryce</td>\n",
       "      <td>F</td>\n",
       "      <td>Cummins</td>\n",
       "      <td>97000</td>\n",
       "    </tr>\n",
       "    <tr>\n",
       "      <td>110</td>\n",
       "      <td>1010</td>\n",
       "      <td>Betty</td>\n",
       "      <td>F</td>\n",
       "      <td>Walmart</td>\n",
       "      <td>88000</td>\n",
       "    </tr>\n",
       "    <tr>\n",
       "      <td>111</td>\n",
       "      <td>1011</td>\n",
       "      <td>James</td>\n",
       "      <td>M</td>\n",
       "      <td>Intel</td>\n",
       "      <td>89000</td>\n",
       "    </tr>\n",
       "  </tbody>\n",
       "</table>\n",
       "</div>"
      ],
      "text/plain": [
       "     Emp_ID     Name Gender    Company  Salary\n",
       "101    1001     Alex      M      Apple   67000\n",
       "102    1002      Amy      F    Walmart   90000\n",
       "103    1003    Allen      M      Intel   87000\n",
       "104    1004    Alice      F    Cummins   69000\n",
       "105    1005  Stephan      M       Ford   78000\n",
       "106    1006    Billy      M  Cognizant   89000\n",
       "107    1007    Brian      M      Apple   80000\n",
       "108    1008     Bran      M      Intel   79000\n",
       "109    1009    Bryce      F    Cummins   97000\n",
       "110    1010    Betty      F    Walmart   88000\n",
       "111    1011    James      M      Intel   89000"
      ]
     },
     "execution_count": 11,
     "metadata": {},
     "output_type": "execute_result"
    }
   ],
   "source": [
    "# append DataFrame df_company_B to df_company_A\n",
    "df_prof_info_A.append(df_prof_info_B)"
   ]
  },
  {
   "cell_type": "markdown",
   "metadata": {},
   "source": [
    "<a id=\"Merging\"> </a>\n",
    "### 2. Merging and Joining\n",
    "\n",
    "Merging two datasets is a process of bringing two datasets to form one, by aligning the rows from both the datasets based on common attributes or columns"
   ]
  },
  {
   "cell_type": "markdown",
   "metadata": {},
   "source": [
    "### Concatenate using `.merge()`"
   ]
  },
  {
   "cell_type": "markdown",
   "metadata": {},
   "source": [
    "Concatenate the personal and professional information on employees in company A."
   ]
  },
  {
   "cell_type": "code",
   "execution_count": 12,
   "metadata": {},
   "outputs": [
    {
     "data": {
      "text/html": [
       "<div>\n",
       "<style scoped>\n",
       "    .dataframe tbody tr th:only-of-type {\n",
       "        vertical-align: middle;\n",
       "    }\n",
       "\n",
       "    .dataframe tbody tr th {\n",
       "        vertical-align: top;\n",
       "    }\n",
       "\n",
       "    .dataframe thead th {\n",
       "        text-align: right;\n",
       "    }\n",
       "</style>\n",
       "<table border=\"1\" class=\"dataframe\">\n",
       "  <thead>\n",
       "    <tr style=\"text-align: right;\">\n",
       "      <th></th>\n",
       "      <th>Emp_ID</th>\n",
       "      <th>Name</th>\n",
       "      <th>Gender</th>\n",
       "      <th>Company</th>\n",
       "      <th>Salary</th>\n",
       "      <th>Hometown</th>\n",
       "      <th>Marital</th>\n",
       "      <th>Dependents</th>\n",
       "    </tr>\n",
       "  </thead>\n",
       "  <tbody>\n",
       "    <tr>\n",
       "      <td>0</td>\n",
       "      <td>1001</td>\n",
       "      <td>Alex</td>\n",
       "      <td>M</td>\n",
       "      <td>Apple</td>\n",
       "      <td>67000</td>\n",
       "      <td>New York</td>\n",
       "      <td>Married</td>\n",
       "      <td>1</td>\n",
       "    </tr>\n",
       "    <tr>\n",
       "      <td>1</td>\n",
       "      <td>1002</td>\n",
       "      <td>Amy</td>\n",
       "      <td>F</td>\n",
       "      <td>Walmart</td>\n",
       "      <td>90000</td>\n",
       "      <td>London</td>\n",
       "      <td>Divorsed</td>\n",
       "      <td>1</td>\n",
       "    </tr>\n",
       "    <tr>\n",
       "      <td>2</td>\n",
       "      <td>1003</td>\n",
       "      <td>Allen</td>\n",
       "      <td>M</td>\n",
       "      <td>Intel</td>\n",
       "      <td>87000</td>\n",
       "      <td>San Francisco</td>\n",
       "      <td>Single</td>\n",
       "      <td>3</td>\n",
       "    </tr>\n",
       "    <tr>\n",
       "      <td>3</td>\n",
       "      <td>1004</td>\n",
       "      <td>Alice</td>\n",
       "      <td>F</td>\n",
       "      <td>Cummins</td>\n",
       "      <td>69000</td>\n",
       "      <td>Seattle</td>\n",
       "      <td>Married</td>\n",
       "      <td>2</td>\n",
       "    </tr>\n",
       "    <tr>\n",
       "      <td>4</td>\n",
       "      <td>1005</td>\n",
       "      <td>Stephan</td>\n",
       "      <td>M</td>\n",
       "      <td>Ford</td>\n",
       "      <td>78000</td>\n",
       "      <td>Madrid</td>\n",
       "      <td>Single</td>\n",
       "      <td>1</td>\n",
       "    </tr>\n",
       "  </tbody>\n",
       "</table>\n",
       "</div>"
      ],
      "text/plain": [
       "  Emp_ID     Name Gender   Company Salary       Hometown   Marital Dependents\n",
       "0   1001     Alex       M    Apple  67000       New York   Married          1\n",
       "1   1002      Amy       F  Walmart  90000         London  Divorsed          1\n",
       "2   1003    Allen       M    Intel  87000  San Francisco    Single          3\n",
       "3   1004    Alice       F  Cummins  69000        Seattle   Married          2\n",
       "4   1005  Stephan       M     Ford  78000         Madrid    Single          1"
      ]
     },
     "execution_count": 12,
     "metadata": {},
     "output_type": "execute_result"
    }
   ],
   "source": [
    "# concatenate the DataFrames \n",
    "# 'on' specifies the column(s) based on which to join the DataFrames \n",
    "# suffixes: specifies the suffix for duplicate columns\n",
    "# the (' ',' ') indicates there are no suffixes given\n",
    "# T: transposes the DataFrame\n",
    "# drop_duplicates(): drops the duplicate rows in a DataFrame\n",
    "pd.merge(df_prof_info_A, df_pers_info_A, on='Emp_ID',suffixes=(' ',' ') ).T.drop_duplicates().T"
   ]
  },
  {
   "cell_type": "markdown",
   "metadata": {},
   "source": [
    "The rows having common employee ID's are merged to give the resultant DataFrame."
   ]
  },
  {
   "cell_type": "markdown",
   "metadata": {},
   "source": [
    "**Merging using multiple keys**"
   ]
  },
  {
   "cell_type": "markdown",
   "metadata": {},
   "source": [
    "Now, let us Concatenate the personal and professional information on employees in company A. "
   ]
  },
  {
   "cell_type": "code",
   "execution_count": 13,
   "metadata": {},
   "outputs": [
    {
     "data": {
      "text/html": [
       "<div>\n",
       "<style scoped>\n",
       "    .dataframe tbody tr th:only-of-type {\n",
       "        vertical-align: middle;\n",
       "    }\n",
       "\n",
       "    .dataframe tbody tr th {\n",
       "        vertical-align: top;\n",
       "    }\n",
       "\n",
       "    .dataframe thead th {\n",
       "        text-align: right;\n",
       "    }\n",
       "</style>\n",
       "<table border=\"1\" class=\"dataframe\">\n",
       "  <thead>\n",
       "    <tr style=\"text-align: right;\">\n",
       "      <th></th>\n",
       "      <th>Emp_ID</th>\n",
       "      <th>Name</th>\n",
       "      <th>Gender</th>\n",
       "      <th>Company</th>\n",
       "      <th>Salary</th>\n",
       "      <th>Hometown</th>\n",
       "      <th>Marital</th>\n",
       "      <th>Dependents</th>\n",
       "    </tr>\n",
       "  </thead>\n",
       "  <tbody>\n",
       "    <tr>\n",
       "      <td>0</td>\n",
       "      <td>1001</td>\n",
       "      <td>Alex</td>\n",
       "      <td>M</td>\n",
       "      <td>Apple</td>\n",
       "      <td>67000</td>\n",
       "      <td>New York</td>\n",
       "      <td>Married</td>\n",
       "      <td>1</td>\n",
       "    </tr>\n",
       "    <tr>\n",
       "      <td>1</td>\n",
       "      <td>1002</td>\n",
       "      <td>Amy</td>\n",
       "      <td>F</td>\n",
       "      <td>Walmart</td>\n",
       "      <td>90000</td>\n",
       "      <td>London</td>\n",
       "      <td>Divorsed</td>\n",
       "      <td>1</td>\n",
       "    </tr>\n",
       "    <tr>\n",
       "      <td>2</td>\n",
       "      <td>1003</td>\n",
       "      <td>Allen</td>\n",
       "      <td>M</td>\n",
       "      <td>Intel</td>\n",
       "      <td>87000</td>\n",
       "      <td>San Francisco</td>\n",
       "      <td>Single</td>\n",
       "      <td>3</td>\n",
       "    </tr>\n",
       "    <tr>\n",
       "      <td>3</td>\n",
       "      <td>1004</td>\n",
       "      <td>Alice</td>\n",
       "      <td>F</td>\n",
       "      <td>Cummins</td>\n",
       "      <td>69000</td>\n",
       "      <td>Seattle</td>\n",
       "      <td>Married</td>\n",
       "      <td>2</td>\n",
       "    </tr>\n",
       "    <tr>\n",
       "      <td>4</td>\n",
       "      <td>1005</td>\n",
       "      <td>Stephan</td>\n",
       "      <td>M</td>\n",
       "      <td>Ford</td>\n",
       "      <td>78000</td>\n",
       "      <td>Madrid</td>\n",
       "      <td>Single</td>\n",
       "      <td>1</td>\n",
       "    </tr>\n",
       "  </tbody>\n",
       "</table>\n",
       "</div>"
      ],
      "text/plain": [
       "   Emp_ID     Name Gender  Company  Salary       Hometown   Marital  \\\n",
       "0    1001     Alex      M    Apple   67000       New York   Married   \n",
       "1    1002      Amy      F  Walmart   90000         London  Divorsed   \n",
       "2    1003    Allen      M    Intel   87000  San Francisco    Single   \n",
       "3    1004    Alice      F  Cummins   69000        Seattle   Married   \n",
       "4    1005  Stephan      M     Ford   78000         Madrid    Single   \n",
       "\n",
       "   Dependents  \n",
       "0           1  \n",
       "1           1  \n",
       "2           3  \n",
       "3           2  \n",
       "4           1  "
      ]
     },
     "execution_count": 13,
     "metadata": {},
     "output_type": "execute_result"
    }
   ],
   "source": [
    "# concatenate the DataFrames \n",
    "# 'on' specifies the column(s) based on which to join the DataFrames \n",
    "pd.merge(df_prof_info_A, df_pers_info_A, on=[\"Emp_ID\",\"Gender\"])"
   ]
  },
  {
   "cell_type": "markdown",
   "metadata": {},
   "source": [
    "The rows having common employee ID and gender are merged to give the resultant DataFrame."
   ]
  },
  {
   "cell_type": "markdown",
   "metadata": {},
   "source": [
    "**Merging on the Basis of Index**"
   ]
  },
  {
   "cell_type": "markdown",
   "metadata": {},
   "source": [
    "This function helps to merge two DataFrames, based on their index."
   ]
  },
  {
   "cell_type": "code",
   "execution_count": 14,
   "metadata": {},
   "outputs": [
    {
     "data": {
      "text/html": [
       "<div>\n",
       "<style scoped>\n",
       "    .dataframe tbody tr th:only-of-type {\n",
       "        vertical-align: middle;\n",
       "    }\n",
       "\n",
       "    .dataframe tbody tr th {\n",
       "        vertical-align: top;\n",
       "    }\n",
       "\n",
       "    .dataframe thead th {\n",
       "        text-align: right;\n",
       "    }\n",
       "</style>\n",
       "<table border=\"1\" class=\"dataframe\">\n",
       "  <thead>\n",
       "    <tr style=\"text-align: right;\">\n",
       "      <th></th>\n",
       "      <th>Emp_ID</th>\n",
       "      <th>Name</th>\n",
       "      <th>Gender</th>\n",
       "      <th>Company</th>\n",
       "      <th>Salary</th>\n",
       "      <th>Hometown</th>\n",
       "      <th>Marital</th>\n",
       "      <th>Dependents</th>\n",
       "    </tr>\n",
       "  </thead>\n",
       "  <tbody>\n",
       "    <tr>\n",
       "      <td>101</td>\n",
       "      <td>1001</td>\n",
       "      <td>Alex</td>\n",
       "      <td>M</td>\n",
       "      <td>Apple</td>\n",
       "      <td>67000</td>\n",
       "      <td>New York</td>\n",
       "      <td>Married</td>\n",
       "      <td>1</td>\n",
       "    </tr>\n",
       "    <tr>\n",
       "      <td>102</td>\n",
       "      <td>1002</td>\n",
       "      <td>Amy</td>\n",
       "      <td>F</td>\n",
       "      <td>Walmart</td>\n",
       "      <td>90000</td>\n",
       "      <td>London</td>\n",
       "      <td>Divorsed</td>\n",
       "      <td>1</td>\n",
       "    </tr>\n",
       "    <tr>\n",
       "      <td>103</td>\n",
       "      <td>1003</td>\n",
       "      <td>Allen</td>\n",
       "      <td>M</td>\n",
       "      <td>Intel</td>\n",
       "      <td>87000</td>\n",
       "      <td>San Francisco</td>\n",
       "      <td>Single</td>\n",
       "      <td>3</td>\n",
       "    </tr>\n",
       "    <tr>\n",
       "      <td>104</td>\n",
       "      <td>1004</td>\n",
       "      <td>Alice</td>\n",
       "      <td>F</td>\n",
       "      <td>Cummins</td>\n",
       "      <td>69000</td>\n",
       "      <td>Seattle</td>\n",
       "      <td>Married</td>\n",
       "      <td>2</td>\n",
       "    </tr>\n",
       "    <tr>\n",
       "      <td>105</td>\n",
       "      <td>1005</td>\n",
       "      <td>Stephan</td>\n",
       "      <td>M</td>\n",
       "      <td>Ford</td>\n",
       "      <td>78000</td>\n",
       "      <td>Madrid</td>\n",
       "      <td>Single</td>\n",
       "      <td>1</td>\n",
       "    </tr>\n",
       "  </tbody>\n",
       "</table>\n",
       "</div>"
      ],
      "text/plain": [
       "    Emp_ID     Name Gender   Company Salary       Hometown   Marital  \\\n",
       "101   1001     Alex       M    Apple  67000       New York   Married   \n",
       "102   1002      Amy       F  Walmart  90000         London  Divorsed   \n",
       "103   1003    Allen       M    Intel  87000  San Francisco    Single   \n",
       "104   1004    Alice       F  Cummins  69000        Seattle   Married   \n",
       "105   1005  Stephan       M     Ford  78000         Madrid    Single   \n",
       "\n",
       "    Dependents  \n",
       "101          1  \n",
       "102          1  \n",
       "103          3  \n",
       "104          2  \n",
       "105          1  "
      ]
     },
     "execution_count": 14,
     "metadata": {},
     "output_type": "execute_result"
    }
   ],
   "source": [
    "# merge the DataFrames based on their index\n",
    "# 'left_index' considers index of left DataFrame to merge, here it is set to True, so it is considered\n",
    "# 'right_index' considers index of right DataFrame to merge, here it is set to False, so it is not considered\n",
    "# 'on' specifies the column(s) based on which to join the DataFrames \n",
    "# suffixes: specifies the suffix for duplicate columns\n",
    "# the (' ',' ') indicates there are no suffixes given\n",
    "# T: transposes the DataFrame\n",
    "# drop_duplicates(): drops the duplicate rows in a DataFrame\n",
    "pd.merge(df_prof_info_A, df_pers_info_A,  right_index = False, left_index = True, on='Emp_ID', suffixes =(' ',' ')\n",
    "        ).T.drop_duplicates().T"
   ]
  },
  {
   "cell_type": "markdown",
   "metadata": {},
   "source": [
    "Note the resultant DataFrame takes the index of the DataFrame to the left. "
   ]
  },
  {
   "cell_type": "markdown",
   "metadata": {},
   "source": [
    "**`merge()` allows you to perform natural join, left join, right join, and full outer join in pandas.**"
   ]
  },
  {
   "cell_type": "markdown",
   "metadata": {},
   "source": [
    "**Understanding the Different Types of Merge:**\n",
    "\n",
    "Left outer join: includes all the rows of your DataFrame x and only those from y that match. (how=‘left’).\n",
    "\n",
    "Right outer join: includes all the rows of your DataFrame y and only those from x that match. (how=‘right’).\n",
    "\n",
    "Inner join: includes those rows that are common to both the DataFrames. (how=‘inner’).\n",
    "\n",
    "Full outer join: includes all rows from both DataFrames. (how=‘outer’)."
   ]
  },
  {
   "cell_type": "markdown",
   "metadata": {},
   "source": [
    "**Inner Join:**<br>\n",
    "It returns only the rows in which the left table has matching keys in the right table."
   ]
  },
  {
   "cell_type": "code",
   "execution_count": 15,
   "metadata": {},
   "outputs": [
    {
     "data": {
      "text/html": [
       "<div>\n",
       "<style scoped>\n",
       "    .dataframe tbody tr th:only-of-type {\n",
       "        vertical-align: middle;\n",
       "    }\n",
       "\n",
       "    .dataframe tbody tr th {\n",
       "        vertical-align: top;\n",
       "    }\n",
       "\n",
       "    .dataframe thead th {\n",
       "        text-align: right;\n",
       "    }\n",
       "</style>\n",
       "<table border=\"1\" class=\"dataframe\">\n",
       "  <thead>\n",
       "    <tr style=\"text-align: right;\">\n",
       "      <th></th>\n",
       "      <th>Emp_ID</th>\n",
       "      <th>Name</th>\n",
       "      <th>Gender</th>\n",
       "      <th>Company</th>\n",
       "      <th>Salary</th>\n",
       "      <th>Hometown</th>\n",
       "      <th>Marital</th>\n",
       "      <th>Dependents</th>\n",
       "    </tr>\n",
       "  </thead>\n",
       "  <tbody>\n",
       "    <tr>\n",
       "      <td>0</td>\n",
       "      <td>1006</td>\n",
       "      <td>Billy</td>\n",
       "      <td>M</td>\n",
       "      <td>Cognizant</td>\n",
       "      <td>89000</td>\n",
       "      <td>Paris</td>\n",
       "      <td>Married</td>\n",
       "      <td>1</td>\n",
       "    </tr>\n",
       "    <tr>\n",
       "      <td>1</td>\n",
       "      <td>1007</td>\n",
       "      <td>Brian</td>\n",
       "      <td>M</td>\n",
       "      <td>Apple</td>\n",
       "      <td>80000</td>\n",
       "      <td>Boston</td>\n",
       "      <td>Divorsed</td>\n",
       "      <td>1</td>\n",
       "    </tr>\n",
       "    <tr>\n",
       "      <td>2</td>\n",
       "      <td>1009</td>\n",
       "      <td>Bryce</td>\n",
       "      <td>F</td>\n",
       "      <td>Cummins</td>\n",
       "      <td>97000</td>\n",
       "      <td>San Francisco</td>\n",
       "      <td>Single</td>\n",
       "      <td>3</td>\n",
       "    </tr>\n",
       "    <tr>\n",
       "      <td>3</td>\n",
       "      <td>1010</td>\n",
       "      <td>Betty</td>\n",
       "      <td>F</td>\n",
       "      <td>Walmart</td>\n",
       "      <td>88000</td>\n",
       "      <td>Seattle</td>\n",
       "      <td>Married</td>\n",
       "      <td>2</td>\n",
       "    </tr>\n",
       "    <tr>\n",
       "      <td>4</td>\n",
       "      <td>1011</td>\n",
       "      <td>James</td>\n",
       "      <td>M</td>\n",
       "      <td>Intel</td>\n",
       "      <td>89000</td>\n",
       "      <td>London</td>\n",
       "      <td>Single</td>\n",
       "      <td>1</td>\n",
       "    </tr>\n",
       "  </tbody>\n",
       "</table>\n",
       "</div>"
      ],
      "text/plain": [
       "   Emp_ID   Name Gender    Company  Salary       Hometown   Marital  \\\n",
       "0    1006  Billy      M  Cognizant   89000          Paris   Married   \n",
       "1    1007  Brian      M      Apple   80000         Boston  Divorsed   \n",
       "2    1009  Bryce      F    Cummins   97000  San Francisco    Single   \n",
       "3    1010  Betty      F    Walmart   88000        Seattle   Married   \n",
       "4    1011  James      M      Intel   89000         London    Single   \n",
       "\n",
       "   Dependents  \n",
       "0           1  \n",
       "1           1  \n",
       "2           3  \n",
       "3           2  \n",
       "4           1  "
      ]
     },
     "execution_count": 15,
     "metadata": {},
     "output_type": "execute_result"
    }
   ],
   "source": [
    "# print the inner join of the DataFrames\n",
    "# on specifies the column(s) based on which to join the DataFrames \n",
    "# how specifies the type of join\n",
    "pd.merge(df_prof_info_B, df_pers_info_B, on='Emp_ID', how='inner')"
   ]
  },
  {
   "cell_type": "markdown",
   "metadata": {},
   "source": [
    "In professional info B we have employee ID's as 1006,1007,1008,1009,1010,1011 and we have personal info B for employee ID's 1006,1007,1009,1010,1011,1012. Because of the inner join, we notice that 1008 from the first DataFrame (professinal info) and 1012 from second DataFrame (personal info) are not part to the resultant outcome. In other words, inner join will include those rows that are common to both the DataFrames."
   ]
  },
  {
   "cell_type": "markdown",
   "metadata": {},
   "source": [
    "**Outer Join:**<br>\n",
    "It returns all rows from both tables, joining records from the left, which has matching keys in the right table."
   ]
  },
  {
   "cell_type": "code",
   "execution_count": 16,
   "metadata": {},
   "outputs": [
    {
     "data": {
      "text/html": [
       "<div>\n",
       "<style scoped>\n",
       "    .dataframe tbody tr th:only-of-type {\n",
       "        vertical-align: middle;\n",
       "    }\n",
       "\n",
       "    .dataframe tbody tr th {\n",
       "        vertical-align: top;\n",
       "    }\n",
       "\n",
       "    .dataframe thead th {\n",
       "        text-align: right;\n",
       "    }\n",
       "</style>\n",
       "<table border=\"1\" class=\"dataframe\">\n",
       "  <thead>\n",
       "    <tr style=\"text-align: right;\">\n",
       "      <th></th>\n",
       "      <th>Emp_ID</th>\n",
       "      <th>Name</th>\n",
       "      <th>Gender</th>\n",
       "      <th>Company</th>\n",
       "      <th>Salary</th>\n",
       "      <th>Hometown</th>\n",
       "      <th>Marital</th>\n",
       "      <th>Dependents</th>\n",
       "    </tr>\n",
       "  </thead>\n",
       "  <tbody>\n",
       "    <tr>\n",
       "      <td>0</td>\n",
       "      <td>1006</td>\n",
       "      <td>Billy</td>\n",
       "      <td>M</td>\n",
       "      <td>Cognizant</td>\n",
       "      <td>89000.0</td>\n",
       "      <td>Paris</td>\n",
       "      <td>Married</td>\n",
       "      <td>1.0</td>\n",
       "    </tr>\n",
       "    <tr>\n",
       "      <td>1</td>\n",
       "      <td>1007</td>\n",
       "      <td>Brian</td>\n",
       "      <td>M</td>\n",
       "      <td>Apple</td>\n",
       "      <td>80000.0</td>\n",
       "      <td>Boston</td>\n",
       "      <td>Divorsed</td>\n",
       "      <td>1.0</td>\n",
       "    </tr>\n",
       "    <tr>\n",
       "      <td>2</td>\n",
       "      <td>1008</td>\n",
       "      <td>Bran</td>\n",
       "      <td>M</td>\n",
       "      <td>Intel</td>\n",
       "      <td>79000.0</td>\n",
       "      <td>NaN</td>\n",
       "      <td>NaN</td>\n",
       "      <td>NaN</td>\n",
       "    </tr>\n",
       "    <tr>\n",
       "      <td>3</td>\n",
       "      <td>1009</td>\n",
       "      <td>Bryce</td>\n",
       "      <td>F</td>\n",
       "      <td>Cummins</td>\n",
       "      <td>97000.0</td>\n",
       "      <td>San Francisco</td>\n",
       "      <td>Single</td>\n",
       "      <td>3.0</td>\n",
       "    </tr>\n",
       "    <tr>\n",
       "      <td>4</td>\n",
       "      <td>1010</td>\n",
       "      <td>Betty</td>\n",
       "      <td>F</td>\n",
       "      <td>Walmart</td>\n",
       "      <td>88000.0</td>\n",
       "      <td>Seattle</td>\n",
       "      <td>Married</td>\n",
       "      <td>2.0</td>\n",
       "    </tr>\n",
       "    <tr>\n",
       "      <td>5</td>\n",
       "      <td>1011</td>\n",
       "      <td>James</td>\n",
       "      <td>M</td>\n",
       "      <td>Intel</td>\n",
       "      <td>89000.0</td>\n",
       "      <td>London</td>\n",
       "      <td>Single</td>\n",
       "      <td>1.0</td>\n",
       "    </tr>\n",
       "    <tr>\n",
       "      <td>6</td>\n",
       "      <td>1012</td>\n",
       "      <td>NaN</td>\n",
       "      <td>NaN</td>\n",
       "      <td>NaN</td>\n",
       "      <td>NaN</td>\n",
       "      <td>London</td>\n",
       "      <td>Single</td>\n",
       "      <td>2.0</td>\n",
       "    </tr>\n",
       "  </tbody>\n",
       "</table>\n",
       "</div>"
      ],
      "text/plain": [
       "   Emp_ID   Name Gender    Company   Salary       Hometown   Marital  \\\n",
       "0    1006  Billy      M  Cognizant  89000.0          Paris   Married   \n",
       "1    1007  Brian      M      Apple  80000.0         Boston  Divorsed   \n",
       "2    1008   Bran      M      Intel  79000.0            NaN       NaN   \n",
       "3    1009  Bryce      F    Cummins  97000.0  San Francisco    Single   \n",
       "4    1010  Betty      F    Walmart  88000.0        Seattle   Married   \n",
       "5    1011  James      M      Intel  89000.0         London    Single   \n",
       "6    1012    NaN    NaN        NaN      NaN         London    Single   \n",
       "\n",
       "   Dependents  \n",
       "0         1.0  \n",
       "1         1.0  \n",
       "2         NaN  \n",
       "3         3.0  \n",
       "4         2.0  \n",
       "5         1.0  \n",
       "6         2.0  "
      ]
     },
     "execution_count": 16,
     "metadata": {},
     "output_type": "execute_result"
    }
   ],
   "source": [
    "# print the outer join of the DataFrames\n",
    "# on specifies the column(s) based on which to join the DataFrames \n",
    "# how specifies the type of join\n",
    "pd.merge(df_prof_info_B, df_pers_info_B, on='Emp_ID', how='outer')"
   ]
  },
  {
   "cell_type": "markdown",
   "metadata": {},
   "source": [
    "In professional info B we have employee ID's as 1006,1007,1008,1009,1010,1011 and we have personal info B for employee ID's 1006,1007,1009,1010,1011,1012. <br>The employee Id 1008 has no personal information available and the employee ID 1012 has no professional information available. <br>So, the outer join merged all the observations from both the DataFrames and all the missing values are marked with `NaN`."
   ]
  },
  {
   "cell_type": "markdown",
   "metadata": {},
   "source": [
    "**Left Outer Join:**<br>\n",
    "It returns all rows from the left table and any rows with matching keys from the right table."
   ]
  },
  {
   "cell_type": "code",
   "execution_count": 17,
   "metadata": {},
   "outputs": [
    {
     "data": {
      "text/html": [
       "<div>\n",
       "<style scoped>\n",
       "    .dataframe tbody tr th:only-of-type {\n",
       "        vertical-align: middle;\n",
       "    }\n",
       "\n",
       "    .dataframe tbody tr th {\n",
       "        vertical-align: top;\n",
       "    }\n",
       "\n",
       "    .dataframe thead th {\n",
       "        text-align: right;\n",
       "    }\n",
       "</style>\n",
       "<table border=\"1\" class=\"dataframe\">\n",
       "  <thead>\n",
       "    <tr style=\"text-align: right;\">\n",
       "      <th></th>\n",
       "      <th>Emp_ID</th>\n",
       "      <th>Name</th>\n",
       "      <th>Gender</th>\n",
       "      <th>Company</th>\n",
       "      <th>Salary</th>\n",
       "      <th>Hometown</th>\n",
       "      <th>Marital</th>\n",
       "      <th>Dependents</th>\n",
       "    </tr>\n",
       "  </thead>\n",
       "  <tbody>\n",
       "    <tr>\n",
       "      <td>0</td>\n",
       "      <td>1006</td>\n",
       "      <td>Billy</td>\n",
       "      <td>M</td>\n",
       "      <td>Cognizant</td>\n",
       "      <td>89000</td>\n",
       "      <td>Paris</td>\n",
       "      <td>Married</td>\n",
       "      <td>1.0</td>\n",
       "    </tr>\n",
       "    <tr>\n",
       "      <td>1</td>\n",
       "      <td>1007</td>\n",
       "      <td>Brian</td>\n",
       "      <td>M</td>\n",
       "      <td>Apple</td>\n",
       "      <td>80000</td>\n",
       "      <td>Boston</td>\n",
       "      <td>Divorsed</td>\n",
       "      <td>1.0</td>\n",
       "    </tr>\n",
       "    <tr>\n",
       "      <td>2</td>\n",
       "      <td>1008</td>\n",
       "      <td>Bran</td>\n",
       "      <td>M</td>\n",
       "      <td>Intel</td>\n",
       "      <td>79000</td>\n",
       "      <td>NaN</td>\n",
       "      <td>NaN</td>\n",
       "      <td>NaN</td>\n",
       "    </tr>\n",
       "    <tr>\n",
       "      <td>3</td>\n",
       "      <td>1009</td>\n",
       "      <td>Bryce</td>\n",
       "      <td>F</td>\n",
       "      <td>Cummins</td>\n",
       "      <td>97000</td>\n",
       "      <td>San Francisco</td>\n",
       "      <td>Single</td>\n",
       "      <td>3.0</td>\n",
       "    </tr>\n",
       "    <tr>\n",
       "      <td>4</td>\n",
       "      <td>1010</td>\n",
       "      <td>Betty</td>\n",
       "      <td>F</td>\n",
       "      <td>Walmart</td>\n",
       "      <td>88000</td>\n",
       "      <td>Seattle</td>\n",
       "      <td>Married</td>\n",
       "      <td>2.0</td>\n",
       "    </tr>\n",
       "    <tr>\n",
       "      <td>5</td>\n",
       "      <td>1011</td>\n",
       "      <td>James</td>\n",
       "      <td>M</td>\n",
       "      <td>Intel</td>\n",
       "      <td>89000</td>\n",
       "      <td>London</td>\n",
       "      <td>Single</td>\n",
       "      <td>1.0</td>\n",
       "    </tr>\n",
       "  </tbody>\n",
       "</table>\n",
       "</div>"
      ],
      "text/plain": [
       "   Emp_ID   Name Gender    Company  Salary       Hometown   Marital  \\\n",
       "0    1006  Billy      M  Cognizant   89000          Paris   Married   \n",
       "1    1007  Brian      M      Apple   80000         Boston  Divorsed   \n",
       "2    1008   Bran      M      Intel   79000            NaN       NaN   \n",
       "3    1009  Bryce      F    Cummins   97000  San Francisco    Single   \n",
       "4    1010  Betty      F    Walmart   88000        Seattle   Married   \n",
       "5    1011  James      M      Intel   89000         London    Single   \n",
       "\n",
       "   Dependents  \n",
       "0         1.0  \n",
       "1         1.0  \n",
       "2         NaN  \n",
       "3         3.0  \n",
       "4         2.0  \n",
       "5         1.0  "
      ]
     },
     "execution_count": 17,
     "metadata": {},
     "output_type": "execute_result"
    }
   ],
   "source": [
    "# print the left join of the DataFrames\n",
    "# on specifies the column(s) based on which to join the DataFrames \n",
    "# how specifies the type of join\n",
    "pd.merge(df_prof_info_B, df_pers_info_B, on = 'Emp_ID', how ='left')"
   ]
  },
  {
   "cell_type": "markdown",
   "metadata": {},
   "source": [
    "We notice that employee ID 1008 is present in left DataFrame but not present in the right DataFrame.\n",
    "\n",
    "Whereas employee ID 1012 is present in right DataFrame but not present in the left DataFrame.\n",
    "\n",
    "Because of `how = 'left'`, it took all the observations from the left DataFrame (professional info) but it took only those observations from the right DataFrame (personal info) which are present in the left DataFrame and all the missing values are marked with `NaN`."
   ]
  },
  {
   "cell_type": "markdown",
   "metadata": {},
   "source": [
    "**Right Outer Join:**<br>\n",
    "It returns all rows from the right table and any rows with matching keys from the left table."
   ]
  },
  {
   "cell_type": "code",
   "execution_count": 18,
   "metadata": {},
   "outputs": [
    {
     "data": {
      "text/html": [
       "<div>\n",
       "<style scoped>\n",
       "    .dataframe tbody tr th:only-of-type {\n",
       "        vertical-align: middle;\n",
       "    }\n",
       "\n",
       "    .dataframe tbody tr th {\n",
       "        vertical-align: top;\n",
       "    }\n",
       "\n",
       "    .dataframe thead th {\n",
       "        text-align: right;\n",
       "    }\n",
       "</style>\n",
       "<table border=\"1\" class=\"dataframe\">\n",
       "  <thead>\n",
       "    <tr style=\"text-align: right;\">\n",
       "      <th></th>\n",
       "      <th>Emp_ID</th>\n",
       "      <th>Name</th>\n",
       "      <th>Gender</th>\n",
       "      <th>Company</th>\n",
       "      <th>Salary</th>\n",
       "      <th>Hometown</th>\n",
       "      <th>Marital</th>\n",
       "      <th>Dependents</th>\n",
       "    </tr>\n",
       "  </thead>\n",
       "  <tbody>\n",
       "    <tr>\n",
       "      <td>0</td>\n",
       "      <td>1006</td>\n",
       "      <td>Billy</td>\n",
       "      <td>M</td>\n",
       "      <td>Cognizant</td>\n",
       "      <td>89000.0</td>\n",
       "      <td>Paris</td>\n",
       "      <td>Married</td>\n",
       "      <td>1</td>\n",
       "    </tr>\n",
       "    <tr>\n",
       "      <td>1</td>\n",
       "      <td>1007</td>\n",
       "      <td>Brian</td>\n",
       "      <td>M</td>\n",
       "      <td>Apple</td>\n",
       "      <td>80000.0</td>\n",
       "      <td>Boston</td>\n",
       "      <td>Divorsed</td>\n",
       "      <td>1</td>\n",
       "    </tr>\n",
       "    <tr>\n",
       "      <td>2</td>\n",
       "      <td>1009</td>\n",
       "      <td>Bryce</td>\n",
       "      <td>F</td>\n",
       "      <td>Cummins</td>\n",
       "      <td>97000.0</td>\n",
       "      <td>San Francisco</td>\n",
       "      <td>Single</td>\n",
       "      <td>3</td>\n",
       "    </tr>\n",
       "    <tr>\n",
       "      <td>3</td>\n",
       "      <td>1010</td>\n",
       "      <td>Betty</td>\n",
       "      <td>F</td>\n",
       "      <td>Walmart</td>\n",
       "      <td>88000.0</td>\n",
       "      <td>Seattle</td>\n",
       "      <td>Married</td>\n",
       "      <td>2</td>\n",
       "    </tr>\n",
       "    <tr>\n",
       "      <td>4</td>\n",
       "      <td>1011</td>\n",
       "      <td>James</td>\n",
       "      <td>M</td>\n",
       "      <td>Intel</td>\n",
       "      <td>89000.0</td>\n",
       "      <td>London</td>\n",
       "      <td>Single</td>\n",
       "      <td>1</td>\n",
       "    </tr>\n",
       "    <tr>\n",
       "      <td>5</td>\n",
       "      <td>1012</td>\n",
       "      <td>NaN</td>\n",
       "      <td>NaN</td>\n",
       "      <td>NaN</td>\n",
       "      <td>NaN</td>\n",
       "      <td>London</td>\n",
       "      <td>Single</td>\n",
       "      <td>2</td>\n",
       "    </tr>\n",
       "  </tbody>\n",
       "</table>\n",
       "</div>"
      ],
      "text/plain": [
       "   Emp_ID   Name Gender    Company   Salary       Hometown   Marital  \\\n",
       "0    1006  Billy      M  Cognizant  89000.0          Paris   Married   \n",
       "1    1007  Brian      M      Apple  80000.0         Boston  Divorsed   \n",
       "2    1009  Bryce      F    Cummins  97000.0  San Francisco    Single   \n",
       "3    1010  Betty      F    Walmart  88000.0        Seattle   Married   \n",
       "4    1011  James      M      Intel  89000.0         London    Single   \n",
       "5    1012    NaN    NaN        NaN      NaN         London    Single   \n",
       "\n",
       "   Dependents  \n",
       "0           1  \n",
       "1           1  \n",
       "2           3  \n",
       "3           2  \n",
       "4           1  \n",
       "5           2  "
      ]
     },
     "execution_count": 18,
     "metadata": {},
     "output_type": "execute_result"
    }
   ],
   "source": [
    "# print the right join of the DataFrames\n",
    "# on specifies the column(s) based on which to join the DataFrames \n",
    "# how specifies the type of join\n",
    "pd.merge(df_prof_info_B, df_pers_info_B, on='Emp_ID', how='right')"
   ]
  },
  {
   "cell_type": "markdown",
   "metadata": {},
   "source": [
    "We notice that employee ID 1012 is present in right DataFrame but not present in the left DataFrame.\n",
    "\n",
    "Whereas employee ID 1008 is present in left DataFrame but not present in the right DataFrame.\n",
    "\n",
    "Because of `how = 'right'`, it took all the observations from the right DataFrame (personal info) but it took only those observations from the left DataFrame (professional info) which are present in the right DataFrame and all the missing values are marked with `NaN`."
   ]
  },
  {
   "cell_type": "markdown",
   "metadata": {},
   "source": [
    "<a id=\"Pivote\"> </a>\n",
    "### 3. Pivot Table\n",
    "\n",
    "\n",
    "The pivot_table() is used to create a new table for the given index. Pivot has three arguments - index, columns, and values."
   ]
  },
  {
   "cell_type": "code",
   "execution_count": 26,
   "metadata": {},
   "outputs": [
    {
     "data": {
      "text/html": [
       "<div>\n",
       "<style scoped>\n",
       "    .dataframe tbody tr th:only-of-type {\n",
       "        vertical-align: middle;\n",
       "    }\n",
       "\n",
       "    .dataframe tbody tr th {\n",
       "        vertical-align: top;\n",
       "    }\n",
       "\n",
       "    .dataframe thead th {\n",
       "        text-align: right;\n",
       "    }\n",
       "</style>\n",
       "<table border=\"1\" class=\"dataframe\">\n",
       "  <thead>\n",
       "    <tr style=\"text-align: right;\">\n",
       "      <th></th>\n",
       "      <th>Months</th>\n",
       "      <th>Sales</th>\n",
       "      <th>Seasons</th>\n",
       "    </tr>\n",
       "  </thead>\n",
       "  <tbody>\n",
       "    <tr>\n",
       "      <td>0</td>\n",
       "      <td>Jan</td>\n",
       "      <td>22000</td>\n",
       "      <td>Winter</td>\n",
       "    </tr>\n",
       "    <tr>\n",
       "      <td>1</td>\n",
       "      <td>Feb</td>\n",
       "      <td>27000</td>\n",
       "      <td>Winter</td>\n",
       "    </tr>\n",
       "    <tr>\n",
       "      <td>2</td>\n",
       "      <td>Mar</td>\n",
       "      <td>25000</td>\n",
       "      <td>Spring</td>\n",
       "    </tr>\n",
       "    <tr>\n",
       "      <td>3</td>\n",
       "      <td>Apr</td>\n",
       "      <td>29000</td>\n",
       "      <td>Spring</td>\n",
       "    </tr>\n",
       "    <tr>\n",
       "      <td>4</td>\n",
       "      <td>May</td>\n",
       "      <td>35000</td>\n",
       "      <td>Spring</td>\n",
       "    </tr>\n",
       "    <tr>\n",
       "      <td>5</td>\n",
       "      <td>June</td>\n",
       "      <td>67000</td>\n",
       "      <td>Summer</td>\n",
       "    </tr>\n",
       "    <tr>\n",
       "      <td>6</td>\n",
       "      <td>July</td>\n",
       "      <td>78000</td>\n",
       "      <td>Summer</td>\n",
       "    </tr>\n",
       "    <tr>\n",
       "      <td>7</td>\n",
       "      <td>Aug</td>\n",
       "      <td>67000</td>\n",
       "      <td>Summer</td>\n",
       "    </tr>\n",
       "    <tr>\n",
       "      <td>8</td>\n",
       "      <td>Sep</td>\n",
       "      <td>56000</td>\n",
       "      <td>Fall</td>\n",
       "    </tr>\n",
       "    <tr>\n",
       "      <td>9</td>\n",
       "      <td>Oct</td>\n",
       "      <td>56000</td>\n",
       "      <td>Fall</td>\n",
       "    </tr>\n",
       "    <tr>\n",
       "      <td>10</td>\n",
       "      <td>Nov</td>\n",
       "      <td>89000</td>\n",
       "      <td>Fall</td>\n",
       "    </tr>\n",
       "    <tr>\n",
       "      <td>11</td>\n",
       "      <td>Dec</td>\n",
       "      <td>60000</td>\n",
       "      <td>Winter</td>\n",
       "    </tr>\n",
       "  </tbody>\n",
       "</table>\n",
       "</div>"
      ],
      "text/plain": [
       "   Months  Sales Seasons\n",
       "0     Jan  22000  Winter\n",
       "1     Feb  27000  Winter\n",
       "2     Mar  25000  Spring\n",
       "3     Apr  29000  Spring\n",
       "4     May  35000  Spring\n",
       "5    June  67000  Summer\n",
       "6    July  78000  Summer\n",
       "7     Aug  67000  Summer\n",
       "8     Sep  56000    Fall\n",
       "9     Oct  56000    Fall\n",
       "10    Nov  89000    Fall\n",
       "11    Dec  60000  Winter"
      ]
     },
     "execution_count": 26,
     "metadata": {},
     "output_type": "execute_result"
    }
   ],
   "source": [
    "# create a dictionary\n",
    "sales = {'Months': ['Jan','Feb','Mar','Apr','May','June','July','Aug','Sep','Oct','Nov','Dec'],\n",
    "        'Sales': [22000,27000,25000,29000,35000,67000,78000,67000,56000,56000,89000,60000],\n",
    "         'Seasons': ['Winter','Winter','Spring','Spring','Spring','Summer','Summer','Summer','Fall','Fall','Fall','Winter']\n",
    "        }\n",
    "\n",
    "# create a DataFrame\n",
    "df_sales = pd.DataFrame(sales, columns= ['Months', 'Sales','Seasons'])\n",
    "\n",
    "# print the DataFrame\n",
    "df_sales"
   ]
  },
  {
   "cell_type": "markdown",
   "metadata": {},
   "source": [
    "The simplest pivot table must have a dataframe and an index . In this case, let us use the 'Months' as our index."
   ]
  },
  {
   "cell_type": "code",
   "execution_count": 27,
   "metadata": {},
   "outputs": [
    {
     "data": {
      "text/html": [
       "<div>\n",
       "<style scoped>\n",
       "    .dataframe tbody tr th:only-of-type {\n",
       "        vertical-align: middle;\n",
       "    }\n",
       "\n",
       "    .dataframe tbody tr th {\n",
       "        vertical-align: top;\n",
       "    }\n",
       "\n",
       "    .dataframe thead th {\n",
       "        text-align: right;\n",
       "    }\n",
       "</style>\n",
       "<table border=\"1\" class=\"dataframe\">\n",
       "  <thead>\n",
       "    <tr style=\"text-align: right;\">\n",
       "      <th></th>\n",
       "      <th>Sales</th>\n",
       "    </tr>\n",
       "    <tr>\n",
       "      <th>Months</th>\n",
       "      <th></th>\n",
       "    </tr>\n",
       "  </thead>\n",
       "  <tbody>\n",
       "    <tr>\n",
       "      <td>Apr</td>\n",
       "      <td>29000</td>\n",
       "    </tr>\n",
       "    <tr>\n",
       "      <td>Aug</td>\n",
       "      <td>67000</td>\n",
       "    </tr>\n",
       "    <tr>\n",
       "      <td>Dec</td>\n",
       "      <td>60000</td>\n",
       "    </tr>\n",
       "    <tr>\n",
       "      <td>Feb</td>\n",
       "      <td>27000</td>\n",
       "    </tr>\n",
       "    <tr>\n",
       "      <td>Jan</td>\n",
       "      <td>22000</td>\n",
       "    </tr>\n",
       "    <tr>\n",
       "      <td>July</td>\n",
       "      <td>78000</td>\n",
       "    </tr>\n",
       "    <tr>\n",
       "      <td>June</td>\n",
       "      <td>67000</td>\n",
       "    </tr>\n",
       "    <tr>\n",
       "      <td>Mar</td>\n",
       "      <td>25000</td>\n",
       "    </tr>\n",
       "    <tr>\n",
       "      <td>May</td>\n",
       "      <td>35000</td>\n",
       "    </tr>\n",
       "    <tr>\n",
       "      <td>Nov</td>\n",
       "      <td>89000</td>\n",
       "    </tr>\n",
       "    <tr>\n",
       "      <td>Oct</td>\n",
       "      <td>56000</td>\n",
       "    </tr>\n",
       "    <tr>\n",
       "      <td>Sep</td>\n",
       "      <td>56000</td>\n",
       "    </tr>\n",
       "  </tbody>\n",
       "</table>\n",
       "</div>"
      ],
      "text/plain": [
       "        Sales\n",
       "Months       \n",
       "Apr     29000\n",
       "Aug     67000\n",
       "Dec     60000\n",
       "Feb     27000\n",
       "Jan     22000\n",
       "July    78000\n",
       "June    67000\n",
       "Mar     25000\n",
       "May     35000\n",
       "Nov     89000\n",
       "Oct     56000\n",
       "Sep     56000"
      ]
     },
     "execution_count": 27,
     "metadata": {},
     "output_type": "execute_result"
    }
   ],
   "source": [
    "# create a pivot table where indexes are months\n",
    "pd.pivot_table(df_sales,index=[\"Months\"])"
   ]
  },
  {
   "cell_type": "markdown",
   "metadata": {},
   "source": [
    "It is possible to create pivot tables over multiple indexes. "
   ]
  },
  {
   "cell_type": "code",
   "execution_count": 28,
   "metadata": {},
   "outputs": [
    {
     "data": {
      "text/html": [
       "<div>\n",
       "<style scoped>\n",
       "    .dataframe tbody tr th:only-of-type {\n",
       "        vertical-align: middle;\n",
       "    }\n",
       "\n",
       "    .dataframe tbody tr th {\n",
       "        vertical-align: top;\n",
       "    }\n",
       "\n",
       "    .dataframe thead th {\n",
       "        text-align: right;\n",
       "    }\n",
       "</style>\n",
       "<table border=\"1\" class=\"dataframe\">\n",
       "  <thead>\n",
       "    <tr style=\"text-align: right;\">\n",
       "      <th></th>\n",
       "      <th></th>\n",
       "      <th>Sales</th>\n",
       "    </tr>\n",
       "    <tr>\n",
       "      <th>Months</th>\n",
       "      <th>Seasons</th>\n",
       "      <th></th>\n",
       "    </tr>\n",
       "  </thead>\n",
       "  <tbody>\n",
       "    <tr>\n",
       "      <td>Apr</td>\n",
       "      <td>Spring</td>\n",
       "      <td>29000</td>\n",
       "    </tr>\n",
       "    <tr>\n",
       "      <td>Aug</td>\n",
       "      <td>Summer</td>\n",
       "      <td>67000</td>\n",
       "    </tr>\n",
       "    <tr>\n",
       "      <td>Dec</td>\n",
       "      <td>Winter</td>\n",
       "      <td>60000</td>\n",
       "    </tr>\n",
       "    <tr>\n",
       "      <td>Feb</td>\n",
       "      <td>Winter</td>\n",
       "      <td>27000</td>\n",
       "    </tr>\n",
       "    <tr>\n",
       "      <td>Jan</td>\n",
       "      <td>Winter</td>\n",
       "      <td>22000</td>\n",
       "    </tr>\n",
       "    <tr>\n",
       "      <td>July</td>\n",
       "      <td>Summer</td>\n",
       "      <td>78000</td>\n",
       "    </tr>\n",
       "    <tr>\n",
       "      <td>June</td>\n",
       "      <td>Summer</td>\n",
       "      <td>67000</td>\n",
       "    </tr>\n",
       "    <tr>\n",
       "      <td>Mar</td>\n",
       "      <td>Spring</td>\n",
       "      <td>25000</td>\n",
       "    </tr>\n",
       "    <tr>\n",
       "      <td>May</td>\n",
       "      <td>Spring</td>\n",
       "      <td>35000</td>\n",
       "    </tr>\n",
       "    <tr>\n",
       "      <td>Nov</td>\n",
       "      <td>Fall</td>\n",
       "      <td>89000</td>\n",
       "    </tr>\n",
       "    <tr>\n",
       "      <td>Oct</td>\n",
       "      <td>Fall</td>\n",
       "      <td>56000</td>\n",
       "    </tr>\n",
       "    <tr>\n",
       "      <td>Sep</td>\n",
       "      <td>Fall</td>\n",
       "      <td>56000</td>\n",
       "    </tr>\n",
       "  </tbody>\n",
       "</table>\n",
       "</div>"
      ],
      "text/plain": [
       "                Sales\n",
       "Months Seasons       \n",
       "Apr    Spring   29000\n",
       "Aug    Summer   67000\n",
       "Dec    Winter   60000\n",
       "Feb    Winter   27000\n",
       "Jan    Winter   22000\n",
       "July   Summer   78000\n",
       "June   Summer   67000\n",
       "Mar    Spring   25000\n",
       "May    Spring   35000\n",
       "Nov    Fall     89000\n",
       "Oct    Fall     56000\n",
       "Sep    Fall     56000"
      ]
     },
     "execution_count": 28,
     "metadata": {},
     "output_type": "execute_result"
    }
   ],
   "source": [
    "# to create pivot table having multiple indexes\n",
    "# index is a list of column names to be considered as indexes\n",
    "pd.pivot_table(df_sales,index=[\"Months\", \"Seasons\"])"
   ]
  },
  {
   "cell_type": "markdown",
   "metadata": {},
   "source": [
    "To create a pivot table for with the index as 'Seasons'. Also, set the values to be 'Sales'."
   ]
  },
  {
   "cell_type": "code",
   "execution_count": 29,
   "metadata": {},
   "outputs": [
    {
     "data": {
      "text/html": [
       "<div>\n",
       "<style scoped>\n",
       "    .dataframe tbody tr th:only-of-type {\n",
       "        vertical-align: middle;\n",
       "    }\n",
       "\n",
       "    .dataframe tbody tr th {\n",
       "        vertical-align: top;\n",
       "    }\n",
       "\n",
       "    .dataframe thead th {\n",
       "        text-align: right;\n",
       "    }\n",
       "</style>\n",
       "<table border=\"1\" class=\"dataframe\">\n",
       "  <thead>\n",
       "    <tr style=\"text-align: right;\">\n",
       "      <th></th>\n",
       "      <th>Sales</th>\n",
       "    </tr>\n",
       "    <tr>\n",
       "      <th>Seasons</th>\n",
       "      <th></th>\n",
       "    </tr>\n",
       "  </thead>\n",
       "  <tbody>\n",
       "    <tr>\n",
       "      <td>Fall</td>\n",
       "      <td>67000.000000</td>\n",
       "    </tr>\n",
       "    <tr>\n",
       "      <td>Spring</td>\n",
       "      <td>29666.666667</td>\n",
       "    </tr>\n",
       "    <tr>\n",
       "      <td>Summer</td>\n",
       "      <td>70666.666667</td>\n",
       "    </tr>\n",
       "    <tr>\n",
       "      <td>Winter</td>\n",
       "      <td>36333.333333</td>\n",
       "    </tr>\n",
       "  </tbody>\n",
       "</table>\n",
       "</div>"
      ],
      "text/plain": [
       "                Sales\n",
       "Seasons              \n",
       "Fall     67000.000000\n",
       "Spring   29666.666667\n",
       "Summer   70666.666667\n",
       "Winter   36333.333333"
      ]
     },
     "execution_count": 29,
     "metadata": {},
     "output_type": "execute_result"
    }
   ],
   "source": [
    "# create a pivot table for with the index as 'Seasons' and values as 'Sales'\n",
    "# index is a list of column names to be considered as indexes\n",
    "# values represent the numeric data\n",
    "pd.pivot_table(df_sales,index=[\"Seasons\"],values=[\"Sales\"])"
   ]
  },
  {
   "cell_type": "markdown",
   "metadata": {},
   "source": [
    "The output gives the average sale in each season. The argument `aggfunc` by default will find the average of all values for an index. For example, for the index `Fall`, the average of all the observation having index 'Fall' is given\n",
    "\n",
    "However, if one is not interested in the average, it is also possible to find the count or the sum of the observations."
   ]
  },
  {
   "cell_type": "markdown",
   "metadata": {},
   "source": [
    "Let us find the sum of sales in each season."
   ]
  },
  {
   "cell_type": "code",
   "execution_count": 30,
   "metadata": {},
   "outputs": [
    {
     "data": {
      "text/html": [
       "<div>\n",
       "<style scoped>\n",
       "    .dataframe tbody tr th:only-of-type {\n",
       "        vertical-align: middle;\n",
       "    }\n",
       "\n",
       "    .dataframe tbody tr th {\n",
       "        vertical-align: top;\n",
       "    }\n",
       "\n",
       "    .dataframe thead th {\n",
       "        text-align: right;\n",
       "    }\n",
       "</style>\n",
       "<table border=\"1\" class=\"dataframe\">\n",
       "  <thead>\n",
       "    <tr style=\"text-align: right;\">\n",
       "      <th></th>\n",
       "      <th>Sales</th>\n",
       "    </tr>\n",
       "    <tr>\n",
       "      <th>Seasons</th>\n",
       "      <th></th>\n",
       "    </tr>\n",
       "  </thead>\n",
       "  <tbody>\n",
       "    <tr>\n",
       "      <td>Fall</td>\n",
       "      <td>201000</td>\n",
       "    </tr>\n",
       "    <tr>\n",
       "      <td>Spring</td>\n",
       "      <td>89000</td>\n",
       "    </tr>\n",
       "    <tr>\n",
       "      <td>Summer</td>\n",
       "      <td>212000</td>\n",
       "    </tr>\n",
       "    <tr>\n",
       "      <td>Winter</td>\n",
       "      <td>109000</td>\n",
       "    </tr>\n",
       "  </tbody>\n",
       "</table>\n",
       "</div>"
      ],
      "text/plain": [
       "          Sales\n",
       "Seasons        \n",
       "Fall     201000\n",
       "Spring    89000\n",
       "Summer   212000\n",
       "Winter   109000"
      ]
     },
     "execution_count": 30,
     "metadata": {},
     "output_type": "execute_result"
    }
   ],
   "source": [
    "# to create a pivot table for with the index as 'Seasons' and values as 'Sales'\n",
    "# index is a list of column names to be considered as indexes\n",
    "# values represent the numeric data\n",
    "# aggfunc specifies the function \n",
    "pd.pivot_table(df_sales,index=[\"Seasons\"],values=[\"Sales\"], aggfunc=np.sum)"
   ]
  },
  {
   "cell_type": "markdown",
   "metadata": {},
   "source": [
    "The `aggfunc` can take a list of functions. "
   ]
  },
  {
   "cell_type": "code",
   "execution_count": 31,
   "metadata": {},
   "outputs": [
    {
     "data": {
      "text/html": [
       "<div>\n",
       "<style scoped>\n",
       "    .dataframe tbody tr th:only-of-type {\n",
       "        vertical-align: middle;\n",
       "    }\n",
       "\n",
       "    .dataframe tbody tr th {\n",
       "        vertical-align: top;\n",
       "    }\n",
       "\n",
       "    .dataframe thead tr th {\n",
       "        text-align: left;\n",
       "    }\n",
       "\n",
       "    .dataframe thead tr:last-of-type th {\n",
       "        text-align: right;\n",
       "    }\n",
       "</style>\n",
       "<table border=\"1\" class=\"dataframe\">\n",
       "  <thead>\n",
       "    <tr>\n",
       "      <th></th>\n",
       "      <th>mean</th>\n",
       "      <th>len</th>\n",
       "    </tr>\n",
       "    <tr>\n",
       "      <th></th>\n",
       "      <th>Sales</th>\n",
       "      <th>Sales</th>\n",
       "    </tr>\n",
       "    <tr>\n",
       "      <th>Seasons</th>\n",
       "      <th></th>\n",
       "      <th></th>\n",
       "    </tr>\n",
       "  </thead>\n",
       "  <tbody>\n",
       "    <tr>\n",
       "      <td>Fall</td>\n",
       "      <td>67000.000000</td>\n",
       "      <td>3</td>\n",
       "    </tr>\n",
       "    <tr>\n",
       "      <td>Spring</td>\n",
       "      <td>29666.666667</td>\n",
       "      <td>3</td>\n",
       "    </tr>\n",
       "    <tr>\n",
       "      <td>Summer</td>\n",
       "      <td>70666.666667</td>\n",
       "      <td>3</td>\n",
       "    </tr>\n",
       "    <tr>\n",
       "      <td>Winter</td>\n",
       "      <td>36333.333333</td>\n",
       "      <td>3</td>\n",
       "    </tr>\n",
       "  </tbody>\n",
       "</table>\n",
       "</div>"
      ],
      "text/plain": [
       "                 mean   len\n",
       "                Sales Sales\n",
       "Seasons                    \n",
       "Fall     67000.000000     3\n",
       "Spring   29666.666667     3\n",
       "Summer   70666.666667     3\n",
       "Winter   36333.333333     3"
      ]
     },
     "execution_count": 31,
     "metadata": {},
     "output_type": "execute_result"
    }
   ],
   "source": [
    "# to create a pivot table for with the index as 'Seasons' and values as 'Sales'\n",
    "# index is a list of column names to be considered as indexes\n",
    "# values represent the numeric data\n",
    "# aggfunc specifies the function \n",
    "# find the average and count of observations for each season\n",
    "pd.pivot_table(df_sales,index=[\"Seasons\"],values=[\"Sales\"], aggfunc=[np.mean,len])"
   ]
  },
  {
   "cell_type": "markdown",
   "metadata": {},
   "source": [
    "The output gives the function used above the column name. We see that the mean and count of observations are given."
   ]
  },
  {
   "cell_type": "markdown",
   "metadata": {},
   "source": [
    "It is possible to create two-dimensional pivot_tables."
   ]
  },
  {
   "cell_type": "code",
   "execution_count": 32,
   "metadata": {},
   "outputs": [
    {
     "data": {
      "text/html": [
       "<div>\n",
       "<style scoped>\n",
       "    .dataframe tbody tr th:only-of-type {\n",
       "        vertical-align: middle;\n",
       "    }\n",
       "\n",
       "    .dataframe tbody tr th {\n",
       "        vertical-align: top;\n",
       "    }\n",
       "\n",
       "    .dataframe thead tr th {\n",
       "        text-align: left;\n",
       "    }\n",
       "\n",
       "    .dataframe thead tr:last-of-type th {\n",
       "        text-align: right;\n",
       "    }\n",
       "</style>\n",
       "<table border=\"1\" class=\"dataframe\">\n",
       "  <thead>\n",
       "    <tr>\n",
       "      <th></th>\n",
       "      <th colspan=\"4\" halign=\"left\">sum</th>\n",
       "    </tr>\n",
       "    <tr>\n",
       "      <th></th>\n",
       "      <th colspan=\"4\" halign=\"left\">Sales</th>\n",
       "    </tr>\n",
       "    <tr>\n",
       "      <th>Seasons</th>\n",
       "      <th>Fall</th>\n",
       "      <th>Spring</th>\n",
       "      <th>Summer</th>\n",
       "      <th>Winter</th>\n",
       "    </tr>\n",
       "    <tr>\n",
       "      <th>Months</th>\n",
       "      <th></th>\n",
       "      <th></th>\n",
       "      <th></th>\n",
       "      <th></th>\n",
       "    </tr>\n",
       "  </thead>\n",
       "  <tbody>\n",
       "    <tr>\n",
       "      <td>Apr</td>\n",
       "      <td>NaN</td>\n",
       "      <td>29000.0</td>\n",
       "      <td>NaN</td>\n",
       "      <td>NaN</td>\n",
       "    </tr>\n",
       "    <tr>\n",
       "      <td>Aug</td>\n",
       "      <td>NaN</td>\n",
       "      <td>NaN</td>\n",
       "      <td>67000.0</td>\n",
       "      <td>NaN</td>\n",
       "    </tr>\n",
       "    <tr>\n",
       "      <td>Dec</td>\n",
       "      <td>NaN</td>\n",
       "      <td>NaN</td>\n",
       "      <td>NaN</td>\n",
       "      <td>60000.0</td>\n",
       "    </tr>\n",
       "    <tr>\n",
       "      <td>Feb</td>\n",
       "      <td>NaN</td>\n",
       "      <td>NaN</td>\n",
       "      <td>NaN</td>\n",
       "      <td>27000.0</td>\n",
       "    </tr>\n",
       "    <tr>\n",
       "      <td>Jan</td>\n",
       "      <td>NaN</td>\n",
       "      <td>NaN</td>\n",
       "      <td>NaN</td>\n",
       "      <td>22000.0</td>\n",
       "    </tr>\n",
       "    <tr>\n",
       "      <td>July</td>\n",
       "      <td>NaN</td>\n",
       "      <td>NaN</td>\n",
       "      <td>78000.0</td>\n",
       "      <td>NaN</td>\n",
       "    </tr>\n",
       "    <tr>\n",
       "      <td>June</td>\n",
       "      <td>NaN</td>\n",
       "      <td>NaN</td>\n",
       "      <td>67000.0</td>\n",
       "      <td>NaN</td>\n",
       "    </tr>\n",
       "    <tr>\n",
       "      <td>Mar</td>\n",
       "      <td>NaN</td>\n",
       "      <td>25000.0</td>\n",
       "      <td>NaN</td>\n",
       "      <td>NaN</td>\n",
       "    </tr>\n",
       "    <tr>\n",
       "      <td>May</td>\n",
       "      <td>NaN</td>\n",
       "      <td>35000.0</td>\n",
       "      <td>NaN</td>\n",
       "      <td>NaN</td>\n",
       "    </tr>\n",
       "    <tr>\n",
       "      <td>Nov</td>\n",
       "      <td>89000.0</td>\n",
       "      <td>NaN</td>\n",
       "      <td>NaN</td>\n",
       "      <td>NaN</td>\n",
       "    </tr>\n",
       "    <tr>\n",
       "      <td>Oct</td>\n",
       "      <td>56000.0</td>\n",
       "      <td>NaN</td>\n",
       "      <td>NaN</td>\n",
       "      <td>NaN</td>\n",
       "    </tr>\n",
       "    <tr>\n",
       "      <td>Sep</td>\n",
       "      <td>56000.0</td>\n",
       "      <td>NaN</td>\n",
       "      <td>NaN</td>\n",
       "      <td>NaN</td>\n",
       "    </tr>\n",
       "  </tbody>\n",
       "</table>\n",
       "</div>"
      ],
      "text/plain": [
       "             sum                           \n",
       "           Sales                           \n",
       "Seasons     Fall   Spring   Summer   Winter\n",
       "Months                                     \n",
       "Apr          NaN  29000.0      NaN      NaN\n",
       "Aug          NaN      NaN  67000.0      NaN\n",
       "Dec          NaN      NaN      NaN  60000.0\n",
       "Feb          NaN      NaN      NaN  27000.0\n",
       "Jan          NaN      NaN      NaN  22000.0\n",
       "July         NaN      NaN  78000.0      NaN\n",
       "June         NaN      NaN  67000.0      NaN\n",
       "Mar          NaN  25000.0      NaN      NaN\n",
       "May          NaN  35000.0      NaN      NaN\n",
       "Nov      89000.0      NaN      NaN      NaN\n",
       "Oct      56000.0      NaN      NaN      NaN\n",
       "Sep      56000.0      NaN      NaN      NaN"
      ]
     },
     "execution_count": 32,
     "metadata": {},
     "output_type": "execute_result"
    }
   ],
   "source": [
    "# create a pivot table for with the index as 'Months', values as 'Sales' and columns as 'Seasons'\n",
    "# index is a list of column names to be considered as indexes\n",
    "# values represent the numeric data\n",
    "# columns is categorical variable(s) whose categories form the columns of the pivot table\n",
    "# aggfunc specifies the function \n",
    "# find the sum observations for each season and month\n",
    "pd.pivot_table(df_sales, index = [\"Months\"], values = [\"Sales\"], columns = [\"Seasons\"], aggfunc = [np.sum])"
   ]
  },
  {
   "cell_type": "markdown",
   "metadata": {},
   "source": [
    "The above table is a bit gaudy to look. Let us replace the NaN's with 0's."
   ]
  },
  {
   "cell_type": "code",
   "execution_count": 33,
   "metadata": {},
   "outputs": [
    {
     "data": {
      "text/html": [
       "<div>\n",
       "<style scoped>\n",
       "    .dataframe tbody tr th:only-of-type {\n",
       "        vertical-align: middle;\n",
       "    }\n",
       "\n",
       "    .dataframe tbody tr th {\n",
       "        vertical-align: top;\n",
       "    }\n",
       "\n",
       "    .dataframe thead tr th {\n",
       "        text-align: left;\n",
       "    }\n",
       "\n",
       "    .dataframe thead tr:last-of-type th {\n",
       "        text-align: right;\n",
       "    }\n",
       "</style>\n",
       "<table border=\"1\" class=\"dataframe\">\n",
       "  <thead>\n",
       "    <tr>\n",
       "      <th></th>\n",
       "      <th colspan=\"4\" halign=\"left\">sum</th>\n",
       "    </tr>\n",
       "    <tr>\n",
       "      <th></th>\n",
       "      <th colspan=\"4\" halign=\"left\">Sales</th>\n",
       "    </tr>\n",
       "    <tr>\n",
       "      <th>Seasons</th>\n",
       "      <th>Fall</th>\n",
       "      <th>Spring</th>\n",
       "      <th>Summer</th>\n",
       "      <th>Winter</th>\n",
       "    </tr>\n",
       "    <tr>\n",
       "      <th>Months</th>\n",
       "      <th></th>\n",
       "      <th></th>\n",
       "      <th></th>\n",
       "      <th></th>\n",
       "    </tr>\n",
       "  </thead>\n",
       "  <tbody>\n",
       "    <tr>\n",
       "      <td>Apr</td>\n",
       "      <td>0</td>\n",
       "      <td>29000</td>\n",
       "      <td>0</td>\n",
       "      <td>0</td>\n",
       "    </tr>\n",
       "    <tr>\n",
       "      <td>Aug</td>\n",
       "      <td>0</td>\n",
       "      <td>0</td>\n",
       "      <td>67000</td>\n",
       "      <td>0</td>\n",
       "    </tr>\n",
       "    <tr>\n",
       "      <td>Dec</td>\n",
       "      <td>0</td>\n",
       "      <td>0</td>\n",
       "      <td>0</td>\n",
       "      <td>60000</td>\n",
       "    </tr>\n",
       "    <tr>\n",
       "      <td>Feb</td>\n",
       "      <td>0</td>\n",
       "      <td>0</td>\n",
       "      <td>0</td>\n",
       "      <td>27000</td>\n",
       "    </tr>\n",
       "    <tr>\n",
       "      <td>Jan</td>\n",
       "      <td>0</td>\n",
       "      <td>0</td>\n",
       "      <td>0</td>\n",
       "      <td>22000</td>\n",
       "    </tr>\n",
       "    <tr>\n",
       "      <td>July</td>\n",
       "      <td>0</td>\n",
       "      <td>0</td>\n",
       "      <td>78000</td>\n",
       "      <td>0</td>\n",
       "    </tr>\n",
       "    <tr>\n",
       "      <td>June</td>\n",
       "      <td>0</td>\n",
       "      <td>0</td>\n",
       "      <td>67000</td>\n",
       "      <td>0</td>\n",
       "    </tr>\n",
       "    <tr>\n",
       "      <td>Mar</td>\n",
       "      <td>0</td>\n",
       "      <td>25000</td>\n",
       "      <td>0</td>\n",
       "      <td>0</td>\n",
       "    </tr>\n",
       "    <tr>\n",
       "      <td>May</td>\n",
       "      <td>0</td>\n",
       "      <td>35000</td>\n",
       "      <td>0</td>\n",
       "      <td>0</td>\n",
       "    </tr>\n",
       "    <tr>\n",
       "      <td>Nov</td>\n",
       "      <td>89000</td>\n",
       "      <td>0</td>\n",
       "      <td>0</td>\n",
       "      <td>0</td>\n",
       "    </tr>\n",
       "    <tr>\n",
       "      <td>Oct</td>\n",
       "      <td>56000</td>\n",
       "      <td>0</td>\n",
       "      <td>0</td>\n",
       "      <td>0</td>\n",
       "    </tr>\n",
       "    <tr>\n",
       "      <td>Sep</td>\n",
       "      <td>56000</td>\n",
       "      <td>0</td>\n",
       "      <td>0</td>\n",
       "      <td>0</td>\n",
       "    </tr>\n",
       "  </tbody>\n",
       "</table>\n",
       "</div>"
      ],
      "text/plain": [
       "           sum                     \n",
       "         Sales                     \n",
       "Seasons   Fall Spring Summer Winter\n",
       "Months                             \n",
       "Apr          0  29000      0      0\n",
       "Aug          0      0  67000      0\n",
       "Dec          0      0      0  60000\n",
       "Feb          0      0      0  27000\n",
       "Jan          0      0      0  22000\n",
       "July         0      0  78000      0\n",
       "June         0      0  67000      0\n",
       "Mar          0  25000      0      0\n",
       "May          0  35000      0      0\n",
       "Nov      89000      0      0      0\n",
       "Oct      56000      0      0      0\n",
       "Sep      56000      0      0      0"
      ]
     },
     "execution_count": 33,
     "metadata": {},
     "output_type": "execute_result"
    }
   ],
   "source": [
    "# create a pivot table for with the index as 'Months', values as 'Sales' and columns as 'Seasons'\n",
    "# index is a list of column names to be considered as indexes\n",
    "# values represent the numeric data\n",
    "# columns is categorical variable(s) whose categories form the columns of the pivot table\n",
    "# aggfunc specifies the function \n",
    "# find the sum observations for each season and month\n",
    "# use fill_value to replace all NaN's as 0's\n",
    "pd.pivot_table(df_sales, index = [\"Months\"], values = [\"Sales\"], columns = [\"Seasons\"],\n",
    "               aggfunc = [np.sum], fill_value = 0)"
   ]
  },
  {
   "cell_type": "markdown",
   "metadata": {},
   "source": [
    "The indexes of the pivot table are the months and the columns are the seasons. "
   ]
  },
  {
   "cell_type": "markdown",
   "metadata": {},
   "source": [
    "<a id=\"crosst\"> </a>\n",
    "### 4. Cross Table"
   ]
  },
  {
   "cell_type": "markdown",
   "metadata": {},
   "source": [
    "Crosstables are similar to pivot tables. They represent the frequency of occurrence of certain groups in the data.\n",
    "\n",
    "Let us first the read the peoples data."
   ]
  },
  {
   "cell_type": "code",
   "execution_count": 34,
   "metadata": {},
   "outputs": [
    {
     "data": {
      "text/html": [
       "<div>\n",
       "<style scoped>\n",
       "    .dataframe tbody tr th:only-of-type {\n",
       "        vertical-align: middle;\n",
       "    }\n",
       "\n",
       "    .dataframe tbody tr th {\n",
       "        vertical-align: top;\n",
       "    }\n",
       "\n",
       "    .dataframe thead th {\n",
       "        text-align: right;\n",
       "    }\n",
       "</style>\n",
       "<table border=\"1\" class=\"dataframe\">\n",
       "  <thead>\n",
       "    <tr style=\"text-align: right;\">\n",
       "      <th></th>\n",
       "      <th>Age</th>\n",
       "      <th>Gender</th>\n",
       "      <th>Hometown</th>\n",
       "      <th>Height</th>\n",
       "      <th>Qualification</th>\n",
       "      <th>Smoker</th>\n",
       "    </tr>\n",
       "  </thead>\n",
       "  <tbody>\n",
       "    <tr>\n",
       "      <td>0</td>\n",
       "      <td>45</td>\n",
       "      <td>Male</td>\n",
       "      <td>Mumbai</td>\n",
       "      <td>167</td>\n",
       "      <td>Graduate</td>\n",
       "      <td>Yes</td>\n",
       "    </tr>\n",
       "    <tr>\n",
       "      <td>1</td>\n",
       "      <td>23</td>\n",
       "      <td>Female</td>\n",
       "      <td>Mumbai</td>\n",
       "      <td>170</td>\n",
       "      <td>Graduate</td>\n",
       "      <td>No</td>\n",
       "    </tr>\n",
       "    <tr>\n",
       "      <td>2</td>\n",
       "      <td>27</td>\n",
       "      <td>Male</td>\n",
       "      <td>Mumbai</td>\n",
       "      <td>175</td>\n",
       "      <td>Post-graduate</td>\n",
       "      <td>No</td>\n",
       "    </tr>\n",
       "    <tr>\n",
       "      <td>3</td>\n",
       "      <td>34</td>\n",
       "      <td>Male</td>\n",
       "      <td>Delhi</td>\n",
       "      <td>155</td>\n",
       "      <td>Graduate</td>\n",
       "      <td>No</td>\n",
       "    </tr>\n",
       "    <tr>\n",
       "      <td>4</td>\n",
       "      <td>43</td>\n",
       "      <td>Female</td>\n",
       "      <td>Mumbai</td>\n",
       "      <td>157</td>\n",
       "      <td>Post-graduate</td>\n",
       "      <td>Yes</td>\n",
       "    </tr>\n",
       "  </tbody>\n",
       "</table>\n",
       "</div>"
      ],
      "text/plain": [
       "   Age  Gender Hometown  Height  Qualification Smoker\n",
       "0   45    Male   Mumbai     167       Graduate    Yes\n",
       "1   23  Female   Mumbai     170       Graduate     No\n",
       "2   27    Male   Mumbai     175  Post-graduate     No\n",
       "3   34    Male    Delhi     155       Graduate     No\n",
       "4   43  Female   Mumbai     157  Post-graduate    Yes"
      ]
     },
     "execution_count": 34,
     "metadata": {},
     "output_type": "execute_result"
    }
   ],
   "source": [
    "# read the csv file \n",
    "df_people = pd.read_csv('people.csv')\n",
    "\n",
    "# print head of the data\n",
    "df_people.head()"
   ]
  },
  {
   "cell_type": "code",
   "execution_count": 35,
   "metadata": {},
   "outputs": [
    {
     "data": {
      "text/html": [
       "<div>\n",
       "<style scoped>\n",
       "    .dataframe tbody tr th:only-of-type {\n",
       "        vertical-align: middle;\n",
       "    }\n",
       "\n",
       "    .dataframe tbody tr th {\n",
       "        vertical-align: top;\n",
       "    }\n",
       "\n",
       "    .dataframe thead th {\n",
       "        text-align: right;\n",
       "    }\n",
       "</style>\n",
       "<table border=\"1\" class=\"dataframe\">\n",
       "  <thead>\n",
       "    <tr style=\"text-align: right;\">\n",
       "      <th>Hometown</th>\n",
       "      <th>Bangalore</th>\n",
       "      <th>Delhi</th>\n",
       "      <th>Mumbai</th>\n",
       "    </tr>\n",
       "    <tr>\n",
       "      <th>Qualification</th>\n",
       "      <th></th>\n",
       "      <th></th>\n",
       "      <th></th>\n",
       "    </tr>\n",
       "  </thead>\n",
       "  <tbody>\n",
       "    <tr>\n",
       "      <td>Diploma</td>\n",
       "      <td>2</td>\n",
       "      <td>3</td>\n",
       "      <td>1</td>\n",
       "    </tr>\n",
       "    <tr>\n",
       "      <td>Graduate</td>\n",
       "      <td>1</td>\n",
       "      <td>2</td>\n",
       "      <td>5</td>\n",
       "    </tr>\n",
       "    <tr>\n",
       "      <td>Post-graduate</td>\n",
       "      <td>3</td>\n",
       "      <td>1</td>\n",
       "      <td>3</td>\n",
       "    </tr>\n",
       "  </tbody>\n",
       "</table>\n",
       "</div>"
      ],
      "text/plain": [
       "Hometown       Bangalore  Delhi  Mumbai\n",
       "Qualification                          \n",
       "Diploma                2      3       1\n",
       "Graduate               1      2       5\n",
       "Post-graduate          3      1       3"
      ]
     },
     "execution_count": 35,
     "metadata": {},
     "output_type": "execute_result"
    }
   ],
   "source": [
    "# find the count of of qualifications people have from each city\n",
    "pd.crosstab(df_people.Qualification, df_people.Hometown)"
   ]
  },
  {
   "cell_type": "markdown",
   "metadata": {},
   "source": [
    "We see there are more post-graduates from Mumbai and Banglore than in Delhi.\n",
    "\n",
    "It is possible to rename the column and row names. We use the parameters `rownames` and `columnames` for rows and columns, respectively."
   ]
  },
  {
   "cell_type": "code",
   "execution_count": 36,
   "metadata": {},
   "outputs": [
    {
     "data": {
      "text/html": [
       "<div>\n",
       "<style scoped>\n",
       "    .dataframe tbody tr th:only-of-type {\n",
       "        vertical-align: middle;\n",
       "    }\n",
       "\n",
       "    .dataframe tbody tr th {\n",
       "        vertical-align: top;\n",
       "    }\n",
       "\n",
       "    .dataframe thead th {\n",
       "        text-align: right;\n",
       "    }\n",
       "</style>\n",
       "<table border=\"1\" class=\"dataframe\">\n",
       "  <thead>\n",
       "    <tr style=\"text-align: right;\">\n",
       "      <th>City</th>\n",
       "      <th>Bangalore</th>\n",
       "      <th>Delhi</th>\n",
       "      <th>Mumbai</th>\n",
       "    </tr>\n",
       "    <tr>\n",
       "      <th>Highest Qualification</th>\n",
       "      <th></th>\n",
       "      <th></th>\n",
       "      <th></th>\n",
       "    </tr>\n",
       "  </thead>\n",
       "  <tbody>\n",
       "    <tr>\n",
       "      <td>Diploma</td>\n",
       "      <td>2</td>\n",
       "      <td>3</td>\n",
       "      <td>1</td>\n",
       "    </tr>\n",
       "    <tr>\n",
       "      <td>Graduate</td>\n",
       "      <td>1</td>\n",
       "      <td>2</td>\n",
       "      <td>5</td>\n",
       "    </tr>\n",
       "    <tr>\n",
       "      <td>Post-graduate</td>\n",
       "      <td>3</td>\n",
       "      <td>1</td>\n",
       "      <td>3</td>\n",
       "    </tr>\n",
       "  </tbody>\n",
       "</table>\n",
       "</div>"
      ],
      "text/plain": [
       "City                   Bangalore  Delhi  Mumbai\n",
       "Highest Qualification                          \n",
       "Diploma                        2      3       1\n",
       "Graduate                       1      2       5\n",
       "Post-graduate                  3      1       3"
      ]
     },
     "execution_count": 36,
     "metadata": {},
     "output_type": "execute_result"
    }
   ],
   "source": [
    "# find the count of qualifications people have from each city\n",
    "# rownames are the categories of a variable which form the indexes\n",
    "# columnames are the categories of a variable which form the indexes\n",
    "pd.crosstab(df_people.Qualification, df_people.Hometown, rownames = ['Highest Qualification'], colnames=['City'])"
   ]
  },
  {
   "cell_type": "markdown",
   "metadata": {},
   "source": [
    "Lets us now see the average age of smokers based on their city of residence"
   ]
  },
  {
   "cell_type": "code",
   "execution_count": 37,
   "metadata": {},
   "outputs": [
    {
     "data": {
      "text/html": [
       "<div>\n",
       "<style scoped>\n",
       "    .dataframe tbody tr th:only-of-type {\n",
       "        vertical-align: middle;\n",
       "    }\n",
       "\n",
       "    .dataframe tbody tr th {\n",
       "        vertical-align: top;\n",
       "    }\n",
       "\n",
       "    .dataframe thead th {\n",
       "        text-align: right;\n",
       "    }\n",
       "</style>\n",
       "<table border=\"1\" class=\"dataframe\">\n",
       "  <thead>\n",
       "    <tr style=\"text-align: right;\">\n",
       "      <th>Smoker</th>\n",
       "      <th>No</th>\n",
       "      <th>Yes</th>\n",
       "    </tr>\n",
       "    <tr>\n",
       "      <th>Hometown</th>\n",
       "      <th></th>\n",
       "      <th></th>\n",
       "    </tr>\n",
       "  </thead>\n",
       "  <tbody>\n",
       "    <tr>\n",
       "      <td>Bangalore</td>\n",
       "      <td>32.333333</td>\n",
       "      <td>52.0</td>\n",
       "    </tr>\n",
       "    <tr>\n",
       "      <td>Delhi</td>\n",
       "      <td>34.000000</td>\n",
       "      <td>50.0</td>\n",
       "    </tr>\n",
       "    <tr>\n",
       "      <td>Mumbai</td>\n",
       "      <td>39.333333</td>\n",
       "      <td>44.0</td>\n",
       "    </tr>\n",
       "  </tbody>\n",
       "</table>\n",
       "</div>"
      ],
      "text/plain": [
       "Smoker            No   Yes\n",
       "Hometown                  \n",
       "Bangalore  32.333333  52.0\n",
       "Delhi      34.000000  50.0\n",
       "Mumbai     39.333333  44.0"
      ]
     },
     "execution_count": 37,
     "metadata": {},
     "output_type": "execute_result"
    }
   ],
   "source": [
    "# find the average age of smokers based on their city of residence\n",
    "# values represent the numeric data\n",
    "# aggfunc specifies the function\n",
    "pd.crosstab(df_people.Hometown, df_people.Smoker, values = df_people.Age, aggfunc = 'mean')"
   ]
  },
  {
   "cell_type": "markdown",
   "metadata": {},
   "source": [
    "The output gives the average age of each of smoker and non-smoker in each city."
   ]
  },
  {
   "cell_type": "markdown",
   "metadata": {},
   "source": [
    "<a id=\"Duplicate\"> </a>\n",
    "### 5. Duplicate"
   ]
  },
  {
   "cell_type": "code",
   "execution_count": 2,
   "metadata": {},
   "outputs": [],
   "source": [
    "import pandas as pd"
   ]
  },
  {
   "cell_type": "code",
   "execution_count": 3,
   "metadata": {},
   "outputs": [
    {
     "data": {
      "text/html": [
       "<div>\n",
       "<style scoped>\n",
       "    .dataframe tbody tr th:only-of-type {\n",
       "        vertical-align: middle;\n",
       "    }\n",
       "\n",
       "    .dataframe tbody tr th {\n",
       "        vertical-align: top;\n",
       "    }\n",
       "\n",
       "    .dataframe thead th {\n",
       "        text-align: right;\n",
       "    }\n",
       "</style>\n",
       "<table border=\"1\" class=\"dataframe\">\n",
       "  <thead>\n",
       "    <tr style=\"text-align: right;\">\n",
       "      <th></th>\n",
       "      <th>Name</th>\n",
       "      <th>Company</th>\n",
       "      <th>Salary</th>\n",
       "    </tr>\n",
       "  </thead>\n",
       "  <tbody>\n",
       "    <tr>\n",
       "      <th>0</th>\n",
       "      <td>Anne</td>\n",
       "      <td>Apple</td>\n",
       "      <td>8500</td>\n",
       "    </tr>\n",
       "    <tr>\n",
       "      <th>1</th>\n",
       "      <td>Bobby</td>\n",
       "      <td>Walmart</td>\n",
       "      <td>6300</td>\n",
       "    </tr>\n",
       "    <tr>\n",
       "      <th>2</th>\n",
       "      <td>James</td>\n",
       "      <td>Walmart</td>\n",
       "      <td>5500</td>\n",
       "    </tr>\n",
       "    <tr>\n",
       "      <th>3</th>\n",
       "      <td>Lewis</td>\n",
       "      <td>Intel</td>\n",
       "      <td>7400</td>\n",
       "    </tr>\n",
       "    <tr>\n",
       "      <th>4</th>\n",
       "      <td>Ross</td>\n",
       "      <td>Apple</td>\n",
       "      <td>3100</td>\n",
       "    </tr>\n",
       "    <tr>\n",
       "      <th>5</th>\n",
       "      <td>Cathrine</td>\n",
       "      <td>Walmart</td>\n",
       "      <td>7700</td>\n",
       "    </tr>\n",
       "    <tr>\n",
       "      <th>6</th>\n",
       "      <td>Anne</td>\n",
       "      <td>Apple</td>\n",
       "      <td>8500</td>\n",
       "    </tr>\n",
       "    <tr>\n",
       "      <th>7</th>\n",
       "      <td>Bobby</td>\n",
       "      <td>Cognizant</td>\n",
       "      <td>6300</td>\n",
       "    </tr>\n",
       "    <tr>\n",
       "      <th>8</th>\n",
       "      <td>Jack</td>\n",
       "      <td>Apple</td>\n",
       "      <td>4200</td>\n",
       "    </tr>\n",
       "    <tr>\n",
       "      <th>9</th>\n",
       "      <td>Alisa</td>\n",
       "      <td>Apple</td>\n",
       "      <td>6200</td>\n",
       "    </tr>\n",
       "    <tr>\n",
       "      <th>10</th>\n",
       "      <td>Alex</td>\n",
       "      <td>Cognizant</td>\n",
       "      <td>8900</td>\n",
       "    </tr>\n",
       "    <tr>\n",
       "      <th>11</th>\n",
       "      <td>Cathrine</td>\n",
       "      <td>Walmart</td>\n",
       "      <td>7700</td>\n",
       "    </tr>\n",
       "  </tbody>\n",
       "</table>\n",
       "</div>"
      ],
      "text/plain": [
       "        Name    Company  Salary\n",
       "0       Anne      Apple    8500\n",
       "1      Bobby    Walmart    6300\n",
       "2      James    Walmart    5500\n",
       "3      Lewis      Intel    7400\n",
       "4       Ross      Apple    3100\n",
       "5   Cathrine    Walmart    7700\n",
       "6       Anne      Apple    8500\n",
       "7      Bobby  Cognizant    6300\n",
       "8       Jack      Apple    4200\n",
       "9      Alisa      Apple    6200\n",
       "10      Alex  Cognizant    8900\n",
       "11  Cathrine    Walmart    7700"
      ]
     },
     "execution_count": 3,
     "metadata": {},
     "output_type": "execute_result"
    }
   ],
   "source": [
    "# create a dictionary\n",
    "data = { 'Name':['Anne','Bobby','James','Lewis','Ross','Cathrine',\n",
    "            'Anne','Bobby','Jack','Alisa','Alex','Cathrine'],\n",
    "    'Company':['Apple','Walmart','Walmart','Intel','Apple','Walmart','Apple',\n",
    "               'Cognizant','Apple','Apple','Cognizant','Walmart'],\n",
    "    'Salary':[8500, 6300, 5500, 7400, 3100, 7700, 8500, 6300, 4200, 6200, 8900, 7700]}\n",
    "\n",
    "# create a DataFrame\n",
    "df_employee = pd.DataFrame(data, columns=['Name','Company','Salary'])\n",
    "df_employee"
   ]
  },
  {
   "cell_type": "markdown",
   "metadata": {},
   "source": [
    "**Duplicate Rows Based on All Columns**"
   ]
  },
  {
   "cell_type": "code",
   "execution_count": 7,
   "metadata": {},
   "outputs": [
    {
     "data": {
      "text/html": [
       "<div>\n",
       "<style scoped>\n",
       "    .dataframe tbody tr th:only-of-type {\n",
       "        vertical-align: middle;\n",
       "    }\n",
       "\n",
       "    .dataframe tbody tr th {\n",
       "        vertical-align: top;\n",
       "    }\n",
       "\n",
       "    .dataframe thead th {\n",
       "        text-align: right;\n",
       "    }\n",
       "</style>\n",
       "<table border=\"1\" class=\"dataframe\">\n",
       "  <thead>\n",
       "    <tr style=\"text-align: right;\">\n",
       "      <th></th>\n",
       "      <th>Name</th>\n",
       "      <th>Company</th>\n",
       "      <th>Salary</th>\n",
       "    </tr>\n",
       "  </thead>\n",
       "  <tbody>\n",
       "    <tr>\n",
       "      <th>6</th>\n",
       "      <td>Anne</td>\n",
       "      <td>Apple</td>\n",
       "      <td>8500</td>\n",
       "    </tr>\n",
       "    <tr>\n",
       "      <th>11</th>\n",
       "      <td>Cathrine</td>\n",
       "      <td>Walmart</td>\n",
       "      <td>7700</td>\n",
       "    </tr>\n",
       "  </tbody>\n",
       "</table>\n",
       "</div>"
      ],
      "text/plain": [
       "        Name  Company  Salary\n",
       "6       Anne    Apple    8500\n",
       "11  Cathrine  Walmart    7700"
      ]
     },
     "execution_count": 7,
     "metadata": {},
     "output_type": "execute_result"
    }
   ],
   "source": [
    "df_employee[df_employee.duplicated()]"
   ]
  },
  {
   "cell_type": "code",
   "execution_count": 4,
   "metadata": {},
   "outputs": [
    {
     "name": "stdout",
     "output_type": "stream",
     "text": [
      "Duplicate Rows except first occurrence based on all columns are :\n",
      "        Name  Company  Salary\n",
      "6       Anne    Apple    8500\n",
      "11  Cathrine  Walmart    7700\n"
     ]
    }
   ],
   "source": [
    "# Select duplicate rows except first occurrence based on all columns\n",
    "duplicate_df = df_employee[df_employee.duplicated()]\n",
    "\n",
    "# print the duplicate rows\n",
    "print(\"Duplicate Rows except first occurrence based on all columns are :\")\n",
    "print(duplicate_df)"
   ]
  },
  {
   "cell_type": "markdown",
   "metadata": {},
   "source": [
    "**Duplicate Rows Based on Selected Columns**"
   ]
  },
  {
   "cell_type": "markdown",
   "metadata": {},
   "source": [
    "Let’s find and select rows based on a single column"
   ]
  },
  {
   "cell_type": "code",
   "execution_count": 8,
   "metadata": {},
   "outputs": [
    {
     "data": {
      "text/html": [
       "<div>\n",
       "<style scoped>\n",
       "    .dataframe tbody tr th:only-of-type {\n",
       "        vertical-align: middle;\n",
       "    }\n",
       "\n",
       "    .dataframe tbody tr th {\n",
       "        vertical-align: top;\n",
       "    }\n",
       "\n",
       "    .dataframe thead th {\n",
       "        text-align: right;\n",
       "    }\n",
       "</style>\n",
       "<table border=\"1\" class=\"dataframe\">\n",
       "  <thead>\n",
       "    <tr style=\"text-align: right;\">\n",
       "      <th></th>\n",
       "      <th>Name</th>\n",
       "      <th>Company</th>\n",
       "      <th>Salary</th>\n",
       "    </tr>\n",
       "  </thead>\n",
       "  <tbody>\n",
       "    <tr>\n",
       "      <th>6</th>\n",
       "      <td>Anne</td>\n",
       "      <td>Apple</td>\n",
       "      <td>8500</td>\n",
       "    </tr>\n",
       "    <tr>\n",
       "      <th>7</th>\n",
       "      <td>Bobby</td>\n",
       "      <td>Cognizant</td>\n",
       "      <td>6300</td>\n",
       "    </tr>\n",
       "    <tr>\n",
       "      <th>11</th>\n",
       "      <td>Cathrine</td>\n",
       "      <td>Walmart</td>\n",
       "      <td>7700</td>\n",
       "    </tr>\n",
       "  </tbody>\n",
       "</table>\n",
       "</div>"
      ],
      "text/plain": [
       "        Name    Company  Salary\n",
       "6       Anne      Apple    8500\n",
       "7      Bobby  Cognizant    6300\n",
       "11  Cathrine    Walmart    7700"
      ]
     },
     "execution_count": 8,
     "metadata": {},
     "output_type": "execute_result"
    }
   ],
   "source": [
    "df_employee[df_employee['Name'].duplicated()]"
   ]
  },
  {
   "cell_type": "code",
   "execution_count": 40,
   "metadata": {},
   "outputs": [
    {
     "name": "stdout",
     "output_type": "stream",
     "text": [
      "        Name    Company  Salary\n",
      "6       Anne      Apple    8500\n",
      "7      Bobby  Cognizant    6300\n",
      "11  Cathrine    Walmart    7700\n"
     ]
    }
   ],
   "source": [
    "# find and select rows based on the column 'Name'\n",
    "df_duplicate = df_employee[df_employee.duplicated('Name')]\n",
    "\n",
    "# print the duplicates\n",
    "print(df_duplicate)"
   ]
  },
  {
   "cell_type": "markdown",
   "metadata": {},
   "source": [
    "Find and select rows based on two column names."
   ]
  },
  {
   "cell_type": "code",
   "execution_count": 41,
   "metadata": {},
   "outputs": [
    {
     "name": "stdout",
     "output_type": "stream",
     "text": [
      "        Name  Company  Salary\n",
      "6       Anne    Apple    8500\n",
      "11  Cathrine  Walmart    7700\n"
     ]
    }
   ],
   "source": [
    "# find and select rows based on the columns 'Name' and 'Company'\n",
    "df_duplicate = df_employee[df_employee.duplicated(['Name', 'Company'])]\n",
    "\n",
    "# print the duplicates\n",
    "print(df_duplicate)"
   ]
  },
  {
   "cell_type": "markdown",
   "metadata": {},
   "source": [
    "**Drop the Duplicate Rows**"
   ]
  },
  {
   "cell_type": "code",
   "execution_count": 42,
   "metadata": {},
   "outputs": [
    {
     "data": {
      "text/html": [
       "<div>\n",
       "<style scoped>\n",
       "    .dataframe tbody tr th:only-of-type {\n",
       "        vertical-align: middle;\n",
       "    }\n",
       "\n",
       "    .dataframe tbody tr th {\n",
       "        vertical-align: top;\n",
       "    }\n",
       "\n",
       "    .dataframe thead th {\n",
       "        text-align: right;\n",
       "    }\n",
       "</style>\n",
       "<table border=\"1\" class=\"dataframe\">\n",
       "  <thead>\n",
       "    <tr style=\"text-align: right;\">\n",
       "      <th></th>\n",
       "      <th>Name</th>\n",
       "      <th>Company</th>\n",
       "      <th>Salary</th>\n",
       "    </tr>\n",
       "  </thead>\n",
       "  <tbody>\n",
       "    <tr>\n",
       "      <td>0</td>\n",
       "      <td>Anne</td>\n",
       "      <td>Apple</td>\n",
       "      <td>8500</td>\n",
       "    </tr>\n",
       "    <tr>\n",
       "      <td>1</td>\n",
       "      <td>Bobby</td>\n",
       "      <td>Walmart</td>\n",
       "      <td>6300</td>\n",
       "    </tr>\n",
       "    <tr>\n",
       "      <td>2</td>\n",
       "      <td>James</td>\n",
       "      <td>Walmart</td>\n",
       "      <td>5500</td>\n",
       "    </tr>\n",
       "    <tr>\n",
       "      <td>3</td>\n",
       "      <td>Lewis</td>\n",
       "      <td>Intel</td>\n",
       "      <td>7400</td>\n",
       "    </tr>\n",
       "    <tr>\n",
       "      <td>4</td>\n",
       "      <td>Ross</td>\n",
       "      <td>Apple</td>\n",
       "      <td>3100</td>\n",
       "    </tr>\n",
       "    <tr>\n",
       "      <td>5</td>\n",
       "      <td>Cathrine</td>\n",
       "      <td>Walmart</td>\n",
       "      <td>7700</td>\n",
       "    </tr>\n",
       "    <tr>\n",
       "      <td>7</td>\n",
       "      <td>Bobby</td>\n",
       "      <td>Cognizant</td>\n",
       "      <td>6300</td>\n",
       "    </tr>\n",
       "    <tr>\n",
       "      <td>8</td>\n",
       "      <td>Jack</td>\n",
       "      <td>Apple</td>\n",
       "      <td>4200</td>\n",
       "    </tr>\n",
       "    <tr>\n",
       "      <td>9</td>\n",
       "      <td>Alisa</td>\n",
       "      <td>Apple</td>\n",
       "      <td>6200</td>\n",
       "    </tr>\n",
       "    <tr>\n",
       "      <td>10</td>\n",
       "      <td>Alex</td>\n",
       "      <td>Cognizant</td>\n",
       "      <td>8900</td>\n",
       "    </tr>\n",
       "  </tbody>\n",
       "</table>\n",
       "</div>"
      ],
      "text/plain": [
       "        Name    Company  Salary\n",
       "0       Anne      Apple    8500\n",
       "1      Bobby    Walmart    6300\n",
       "2      James    Walmart    5500\n",
       "3      Lewis      Intel    7400\n",
       "4       Ross      Apple    3100\n",
       "5   Cathrine    Walmart    7700\n",
       "7      Bobby  Cognizant    6300\n",
       "8       Jack      Apple    4200\n",
       "9      Alisa      Apple    6200\n",
       "10      Alex  Cognizant    8900"
      ]
     },
     "execution_count": 42,
     "metadata": {},
     "output_type": "execute_result"
    }
   ],
   "source": [
    "# drop the duplicates values using drop_duplicates()\n",
    "df_employee.drop_duplicates()"
   ]
  },
  {
   "cell_type": "markdown",
   "metadata": {},
   "source": [
    "<a id=\"drop\"> </a>\n",
    "### 6. Dropping Rows and Columns"
   ]
  },
  {
   "cell_type": "markdown",
   "metadata": {},
   "source": [
    "**1. To drop rows** \n",
    "\n",
    "We shall use the DataFrame `df`."
   ]
  },
  {
   "cell_type": "code",
   "execution_count": 43,
   "metadata": {},
   "outputs": [
    {
     "data": {
      "text/html": [
       "<div>\n",
       "<style scoped>\n",
       "    .dataframe tbody tr th:only-of-type {\n",
       "        vertical-align: middle;\n",
       "    }\n",
       "\n",
       "    .dataframe tbody tr th {\n",
       "        vertical-align: top;\n",
       "    }\n",
       "\n",
       "    .dataframe thead th {\n",
       "        text-align: right;\n",
       "    }\n",
       "</style>\n",
       "<table border=\"1\" class=\"dataframe\">\n",
       "  <thead>\n",
       "    <tr style=\"text-align: right;\">\n",
       "      <th></th>\n",
       "      <th>Name</th>\n",
       "      <th>Company</th>\n",
       "      <th>Salary</th>\n",
       "    </tr>\n",
       "  </thead>\n",
       "  <tbody>\n",
       "    <tr>\n",
       "      <td>0</td>\n",
       "      <td>Anne</td>\n",
       "      <td>Apple</td>\n",
       "      <td>8500</td>\n",
       "    </tr>\n",
       "    <tr>\n",
       "      <td>2</td>\n",
       "      <td>James</td>\n",
       "      <td>Walmart</td>\n",
       "      <td>5500</td>\n",
       "    </tr>\n",
       "    <tr>\n",
       "      <td>4</td>\n",
       "      <td>Ross</td>\n",
       "      <td>Apple</td>\n",
       "      <td>3100</td>\n",
       "    </tr>\n",
       "    <tr>\n",
       "      <td>6</td>\n",
       "      <td>Anne</td>\n",
       "      <td>Apple</td>\n",
       "      <td>8500</td>\n",
       "    </tr>\n",
       "    <tr>\n",
       "      <td>7</td>\n",
       "      <td>Bobby</td>\n",
       "      <td>Cognizant</td>\n",
       "      <td>6300</td>\n",
       "    </tr>\n",
       "    <tr>\n",
       "      <td>10</td>\n",
       "      <td>Alex</td>\n",
       "      <td>Cognizant</td>\n",
       "      <td>8900</td>\n",
       "    </tr>\n",
       "    <tr>\n",
       "      <td>11</td>\n",
       "      <td>Cathrine</td>\n",
       "      <td>Walmart</td>\n",
       "      <td>7700</td>\n",
       "    </tr>\n",
       "  </tbody>\n",
       "</table>\n",
       "</div>"
      ],
      "text/plain": [
       "        Name    Company  Salary\n",
       "0       Anne      Apple    8500\n",
       "2      James    Walmart    5500\n",
       "4       Ross      Apple    3100\n",
       "6       Anne      Apple    8500\n",
       "7      Bobby  Cognizant    6300\n",
       "10      Alex  Cognizant    8900\n",
       "11  Cathrine    Walmart    7700"
      ]
     },
     "execution_count": 43,
     "metadata": {},
     "output_type": "execute_result"
    }
   ],
   "source": [
    "# drop rows using drop()\n",
    "# index specify the indexes (row names)\n",
    "df_employee.drop(index = [1,9,5,3,8])"
   ]
  },
  {
   "cell_type": "markdown",
   "metadata": {},
   "source": [
    "We see that the index numbers specified have been removed. "
   ]
  },
  {
   "cell_type": "markdown",
   "metadata": {},
   "source": [
    "Similarly, we can drop columns."
   ]
  },
  {
   "cell_type": "markdown",
   "metadata": {},
   "source": [
    "**2. To drop columns** \n",
    "\n",
    "We shall use the DataFrame `df` and drop the columns Qualification and Height."
   ]
  },
  {
   "cell_type": "code",
   "execution_count": 44,
   "metadata": {},
   "outputs": [
    {
     "data": {
      "text/html": [
       "<div>\n",
       "<style scoped>\n",
       "    .dataframe tbody tr th:only-of-type {\n",
       "        vertical-align: middle;\n",
       "    }\n",
       "\n",
       "    .dataframe tbody tr th {\n",
       "        vertical-align: top;\n",
       "    }\n",
       "\n",
       "    .dataframe thead th {\n",
       "        text-align: right;\n",
       "    }\n",
       "</style>\n",
       "<table border=\"1\" class=\"dataframe\">\n",
       "  <thead>\n",
       "    <tr style=\"text-align: right;\">\n",
       "      <th></th>\n",
       "      <th>Company</th>\n",
       "    </tr>\n",
       "  </thead>\n",
       "  <tbody>\n",
       "    <tr>\n",
       "      <td>0</td>\n",
       "      <td>Apple</td>\n",
       "    </tr>\n",
       "    <tr>\n",
       "      <td>1</td>\n",
       "      <td>Walmart</td>\n",
       "    </tr>\n",
       "    <tr>\n",
       "      <td>2</td>\n",
       "      <td>Walmart</td>\n",
       "    </tr>\n",
       "    <tr>\n",
       "      <td>3</td>\n",
       "      <td>Intel</td>\n",
       "    </tr>\n",
       "    <tr>\n",
       "      <td>4</td>\n",
       "      <td>Apple</td>\n",
       "    </tr>\n",
       "    <tr>\n",
       "      <td>5</td>\n",
       "      <td>Walmart</td>\n",
       "    </tr>\n",
       "    <tr>\n",
       "      <td>6</td>\n",
       "      <td>Apple</td>\n",
       "    </tr>\n",
       "    <tr>\n",
       "      <td>7</td>\n",
       "      <td>Cognizant</td>\n",
       "    </tr>\n",
       "    <tr>\n",
       "      <td>8</td>\n",
       "      <td>Apple</td>\n",
       "    </tr>\n",
       "    <tr>\n",
       "      <td>9</td>\n",
       "      <td>Apple</td>\n",
       "    </tr>\n",
       "    <tr>\n",
       "      <td>10</td>\n",
       "      <td>Cognizant</td>\n",
       "    </tr>\n",
       "    <tr>\n",
       "      <td>11</td>\n",
       "      <td>Walmart</td>\n",
       "    </tr>\n",
       "  </tbody>\n",
       "</table>\n",
       "</div>"
      ],
      "text/plain": [
       "      Company\n",
       "0       Apple\n",
       "1     Walmart\n",
       "2     Walmart\n",
       "3       Intel\n",
       "4       Apple\n",
       "5     Walmart\n",
       "6       Apple\n",
       "7   Cognizant\n",
       "8       Apple\n",
       "9       Apple\n",
       "10  Cognizant\n",
       "11    Walmart"
      ]
     },
     "execution_count": 44,
     "metadata": {},
     "output_type": "execute_result"
    }
   ],
   "source": [
    "# drop rows using drop()\n",
    "# columns specify the column names\n",
    "df_employee.drop(columns = ['Name', 'Salary'])"
   ]
  },
  {
   "cell_type": "markdown",
   "metadata": {},
   "source": [
    "We see that the two specifies columns have been dropped."
   ]
  },
  {
   "cell_type": "markdown",
   "metadata": {},
   "source": [
    "Now let us print the DataFrame df_employee."
   ]
  },
  {
   "cell_type": "code",
   "execution_count": 45,
   "metadata": {},
   "outputs": [
    {
     "data": {
      "text/html": [
       "<div>\n",
       "<style scoped>\n",
       "    .dataframe tbody tr th:only-of-type {\n",
       "        vertical-align: middle;\n",
       "    }\n",
       "\n",
       "    .dataframe tbody tr th {\n",
       "        vertical-align: top;\n",
       "    }\n",
       "\n",
       "    .dataframe thead th {\n",
       "        text-align: right;\n",
       "    }\n",
       "</style>\n",
       "<table border=\"1\" class=\"dataframe\">\n",
       "  <thead>\n",
       "    <tr style=\"text-align: right;\">\n",
       "      <th></th>\n",
       "      <th>Name</th>\n",
       "      <th>Company</th>\n",
       "      <th>Salary</th>\n",
       "    </tr>\n",
       "  </thead>\n",
       "  <tbody>\n",
       "    <tr>\n",
       "      <td>0</td>\n",
       "      <td>Anne</td>\n",
       "      <td>Apple</td>\n",
       "      <td>8500</td>\n",
       "    </tr>\n",
       "    <tr>\n",
       "      <td>1</td>\n",
       "      <td>Bobby</td>\n",
       "      <td>Walmart</td>\n",
       "      <td>6300</td>\n",
       "    </tr>\n",
       "    <tr>\n",
       "      <td>2</td>\n",
       "      <td>James</td>\n",
       "      <td>Walmart</td>\n",
       "      <td>5500</td>\n",
       "    </tr>\n",
       "    <tr>\n",
       "      <td>3</td>\n",
       "      <td>Lewis</td>\n",
       "      <td>Intel</td>\n",
       "      <td>7400</td>\n",
       "    </tr>\n",
       "    <tr>\n",
       "      <td>4</td>\n",
       "      <td>Ross</td>\n",
       "      <td>Apple</td>\n",
       "      <td>3100</td>\n",
       "    </tr>\n",
       "    <tr>\n",
       "      <td>5</td>\n",
       "      <td>Cathrine</td>\n",
       "      <td>Walmart</td>\n",
       "      <td>7700</td>\n",
       "    </tr>\n",
       "    <tr>\n",
       "      <td>6</td>\n",
       "      <td>Anne</td>\n",
       "      <td>Apple</td>\n",
       "      <td>8500</td>\n",
       "    </tr>\n",
       "    <tr>\n",
       "      <td>7</td>\n",
       "      <td>Bobby</td>\n",
       "      <td>Cognizant</td>\n",
       "      <td>6300</td>\n",
       "    </tr>\n",
       "    <tr>\n",
       "      <td>8</td>\n",
       "      <td>Jack</td>\n",
       "      <td>Apple</td>\n",
       "      <td>4200</td>\n",
       "    </tr>\n",
       "    <tr>\n",
       "      <td>9</td>\n",
       "      <td>Alisa</td>\n",
       "      <td>Apple</td>\n",
       "      <td>6200</td>\n",
       "    </tr>\n",
       "    <tr>\n",
       "      <td>10</td>\n",
       "      <td>Alex</td>\n",
       "      <td>Cognizant</td>\n",
       "      <td>8900</td>\n",
       "    </tr>\n",
       "    <tr>\n",
       "      <td>11</td>\n",
       "      <td>Cathrine</td>\n",
       "      <td>Walmart</td>\n",
       "      <td>7700</td>\n",
       "    </tr>\n",
       "  </tbody>\n",
       "</table>\n",
       "</div>"
      ],
      "text/plain": [
       "        Name    Company  Salary\n",
       "0       Anne      Apple    8500\n",
       "1      Bobby    Walmart    6300\n",
       "2      James    Walmart    5500\n",
       "3      Lewis      Intel    7400\n",
       "4       Ross      Apple    3100\n",
       "5   Cathrine    Walmart    7700\n",
       "6       Anne      Apple    8500\n",
       "7      Bobby  Cognizant    6300\n",
       "8       Jack      Apple    4200\n",
       "9      Alisa      Apple    6200\n",
       "10      Alex  Cognizant    8900\n",
       "11  Cathrine    Walmart    7700"
      ]
     },
     "execution_count": 45,
     "metadata": {},
     "output_type": "execute_result"
    }
   ],
   "source": [
    "# print the DataFrame df_employee\n",
    "df_employee"
   ]
  },
  {
   "cell_type": "markdown",
   "metadata": {},
   "source": [
    "We see the original DataFrame is retained. \n",
    "\n",
    "If we wish to make a permanent change in the DataFrame, we use `inplace`."
   ]
  },
  {
   "cell_type": "markdown",
   "metadata": {},
   "source": [
    "**Usage of inplace** <br><br>\n",
    "`inplace` is used when we want to make a permanent to the data. This does not change the data at the source but the data which is read initially.<br>\n",
    "\n",
    "Let us drop the fourth row from the data and use `inplace` to make a permanent change."
   ]
  },
  {
   "cell_type": "code",
   "execution_count": 46,
   "metadata": {},
   "outputs": [],
   "source": [
    "# drop the fourth row\n",
    "df_employee.drop(index = [3], inplace = True)"
   ]
  },
  {
   "cell_type": "code",
   "execution_count": 47,
   "metadata": {},
   "outputs": [
    {
     "data": {
      "text/html": [
       "<div>\n",
       "<style scoped>\n",
       "    .dataframe tbody tr th:only-of-type {\n",
       "        vertical-align: middle;\n",
       "    }\n",
       "\n",
       "    .dataframe tbody tr th {\n",
       "        vertical-align: top;\n",
       "    }\n",
       "\n",
       "    .dataframe thead th {\n",
       "        text-align: right;\n",
       "    }\n",
       "</style>\n",
       "<table border=\"1\" class=\"dataframe\">\n",
       "  <thead>\n",
       "    <tr style=\"text-align: right;\">\n",
       "      <th></th>\n",
       "      <th>Name</th>\n",
       "      <th>Company</th>\n",
       "      <th>Salary</th>\n",
       "    </tr>\n",
       "  </thead>\n",
       "  <tbody>\n",
       "    <tr>\n",
       "      <td>0</td>\n",
       "      <td>Anne</td>\n",
       "      <td>Apple</td>\n",
       "      <td>8500</td>\n",
       "    </tr>\n",
       "    <tr>\n",
       "      <td>1</td>\n",
       "      <td>Bobby</td>\n",
       "      <td>Walmart</td>\n",
       "      <td>6300</td>\n",
       "    </tr>\n",
       "    <tr>\n",
       "      <td>2</td>\n",
       "      <td>James</td>\n",
       "      <td>Walmart</td>\n",
       "      <td>5500</td>\n",
       "    </tr>\n",
       "    <tr>\n",
       "      <td>4</td>\n",
       "      <td>Ross</td>\n",
       "      <td>Apple</td>\n",
       "      <td>3100</td>\n",
       "    </tr>\n",
       "    <tr>\n",
       "      <td>5</td>\n",
       "      <td>Cathrine</td>\n",
       "      <td>Walmart</td>\n",
       "      <td>7700</td>\n",
       "    </tr>\n",
       "    <tr>\n",
       "      <td>6</td>\n",
       "      <td>Anne</td>\n",
       "      <td>Apple</td>\n",
       "      <td>8500</td>\n",
       "    </tr>\n",
       "    <tr>\n",
       "      <td>7</td>\n",
       "      <td>Bobby</td>\n",
       "      <td>Cognizant</td>\n",
       "      <td>6300</td>\n",
       "    </tr>\n",
       "    <tr>\n",
       "      <td>8</td>\n",
       "      <td>Jack</td>\n",
       "      <td>Apple</td>\n",
       "      <td>4200</td>\n",
       "    </tr>\n",
       "    <tr>\n",
       "      <td>9</td>\n",
       "      <td>Alisa</td>\n",
       "      <td>Apple</td>\n",
       "      <td>6200</td>\n",
       "    </tr>\n",
       "    <tr>\n",
       "      <td>10</td>\n",
       "      <td>Alex</td>\n",
       "      <td>Cognizant</td>\n",
       "      <td>8900</td>\n",
       "    </tr>\n",
       "    <tr>\n",
       "      <td>11</td>\n",
       "      <td>Cathrine</td>\n",
       "      <td>Walmart</td>\n",
       "      <td>7700</td>\n",
       "    </tr>\n",
       "  </tbody>\n",
       "</table>\n",
       "</div>"
      ],
      "text/plain": [
       "        Name    Company  Salary\n",
       "0       Anne      Apple    8500\n",
       "1      Bobby    Walmart    6300\n",
       "2      James    Walmart    5500\n",
       "4       Ross      Apple    3100\n",
       "5   Cathrine    Walmart    7700\n",
       "6       Anne      Apple    8500\n",
       "7      Bobby  Cognizant    6300\n",
       "8       Jack      Apple    4200\n",
       "9      Alisa      Apple    6200\n",
       "10      Alex  Cognizant    8900\n",
       "11  Cathrine    Walmart    7700"
      ]
     },
     "execution_count": 47,
     "metadata": {},
     "output_type": "execute_result"
    }
   ],
   "source": [
    "# print df_employee\n",
    "df_employee"
   ]
  },
  {
   "cell_type": "markdown",
   "metadata": {},
   "source": [
    "It is apparent the fourth row indexed as 3 is dropped. "
   ]
  },
  {
   "cell_type": "markdown",
   "metadata": {},
   "source": [
    "<a id=\"Map\"> </a>\n",
    "### 7. Map and Replace"
   ]
  },
  {
   "cell_type": "markdown",
   "metadata": {},
   "source": [
    "**`.map()`:**<br>\n",
    "`.map()` function is used to create a new column by mapping the dataframe column values with the dictionary Key"
   ]
  },
  {
   "cell_type": "code",
   "execution_count": 48,
   "metadata": {},
   "outputs": [
    {
     "data": {
      "text/html": [
       "<div>\n",
       "<style scoped>\n",
       "    .dataframe tbody tr th:only-of-type {\n",
       "        vertical-align: middle;\n",
       "    }\n",
       "\n",
       "    .dataframe tbody tr th {\n",
       "        vertical-align: top;\n",
       "    }\n",
       "\n",
       "    .dataframe thead th {\n",
       "        text-align: right;\n",
       "    }\n",
       "</style>\n",
       "<table border=\"1\" class=\"dataframe\">\n",
       "  <thead>\n",
       "    <tr style=\"text-align: right;\">\n",
       "      <th></th>\n",
       "      <th>Country</th>\n",
       "      <th>Population</th>\n",
       "    </tr>\n",
       "  </thead>\n",
       "  <tbody>\n",
       "    <tr>\n",
       "      <td>0</td>\n",
       "      <td>China</td>\n",
       "      <td>1403500365</td>\n",
       "    </tr>\n",
       "    <tr>\n",
       "      <td>1</td>\n",
       "      <td>India</td>\n",
       "      <td>1324171354</td>\n",
       "    </tr>\n",
       "    <tr>\n",
       "      <td>2</td>\n",
       "      <td>USA</td>\n",
       "      <td>322179605</td>\n",
       "    </tr>\n",
       "    <tr>\n",
       "      <td>3</td>\n",
       "      <td>Indonesia</td>\n",
       "      <td>261115456</td>\n",
       "    </tr>\n",
       "    <tr>\n",
       "      <td>4</td>\n",
       "      <td>Brazil</td>\n",
       "      <td>207652865</td>\n",
       "    </tr>\n",
       "  </tbody>\n",
       "</table>\n",
       "</div>"
      ],
      "text/plain": [
       "     Country  Population\n",
       "0      China  1403500365\n",
       "1      India  1324171354\n",
       "2        USA   322179605\n",
       "3  Indonesia   261115456\n",
       "4     Brazil   207652865"
      ]
     },
     "execution_count": 48,
     "metadata": {},
     "output_type": "execute_result"
    }
   ],
   "source": [
    "# create a DataFrame from a dictionary\n",
    "df_demography = pd.DataFrame({'Country':['China','India','USA','Indonesia','Brazil'],\n",
    "                  'Population':[1403500365,1324171354,322179605,261115456,207652865]})\n",
    "\n",
    "# print the DataFrame\n",
    "df_demography"
   ]
  },
  {
   "cell_type": "code",
   "execution_count": 49,
   "metadata": {},
   "outputs": [],
   "source": [
    "# create a dictionary\n",
    "capital = {\n",
    "'Germany':'Berlin',\n",
    "'Brazil':'Brasília',\n",
    "'Hungary':'Budapest',\n",
    "'China':'Beijing',\n",
    "'India':'New Delhi',\n",
    "'Norway':'Oslo',\n",
    "'France':'Paris',\n",
    "'Indonesia': 'Jakarta',\n",
    "'USA':'Washington'\n",
    "}"
   ]
  },
  {
   "cell_type": "markdown",
   "metadata": {},
   "source": [
    "Create a new column - Capital in the DataFrame such that it matches the key-value pair from the country column."
   ]
  },
  {
   "cell_type": "code",
   "execution_count": 50,
   "metadata": {},
   "outputs": [
    {
     "data": {
      "text/html": [
       "<div>\n",
       "<style scoped>\n",
       "    .dataframe tbody tr th:only-of-type {\n",
       "        vertical-align: middle;\n",
       "    }\n",
       "\n",
       "    .dataframe tbody tr th {\n",
       "        vertical-align: top;\n",
       "    }\n",
       "\n",
       "    .dataframe thead th {\n",
       "        text-align: right;\n",
       "    }\n",
       "</style>\n",
       "<table border=\"1\" class=\"dataframe\">\n",
       "  <thead>\n",
       "    <tr style=\"text-align: right;\">\n",
       "      <th></th>\n",
       "      <th>Country</th>\n",
       "      <th>Population</th>\n",
       "      <th>Capital</th>\n",
       "    </tr>\n",
       "  </thead>\n",
       "  <tbody>\n",
       "    <tr>\n",
       "      <td>0</td>\n",
       "      <td>China</td>\n",
       "      <td>1403500365</td>\n",
       "      <td>Beijing</td>\n",
       "    </tr>\n",
       "    <tr>\n",
       "      <td>1</td>\n",
       "      <td>India</td>\n",
       "      <td>1324171354</td>\n",
       "      <td>New Delhi</td>\n",
       "    </tr>\n",
       "    <tr>\n",
       "      <td>2</td>\n",
       "      <td>USA</td>\n",
       "      <td>322179605</td>\n",
       "      <td>Washington</td>\n",
       "    </tr>\n",
       "    <tr>\n",
       "      <td>3</td>\n",
       "      <td>Indonesia</td>\n",
       "      <td>261115456</td>\n",
       "      <td>Jakarta</td>\n",
       "    </tr>\n",
       "    <tr>\n",
       "      <td>4</td>\n",
       "      <td>Brazil</td>\n",
       "      <td>207652865</td>\n",
       "      <td>Brasília</td>\n",
       "    </tr>\n",
       "  </tbody>\n",
       "</table>\n",
       "</div>"
      ],
      "text/plain": [
       "     Country  Population     Capital\n",
       "0      China  1403500365     Beijing\n",
       "1      India  1324171354   New Delhi\n",
       "2        USA   322179605  Washington\n",
       "3  Indonesia   261115456     Jakarta\n",
       "4     Brazil   207652865    Brasília"
      ]
     },
     "execution_count": 50,
     "metadata": {},
     "output_type": "execute_result"
    }
   ],
   "source": [
    "# create a new column in the DataFrame\n",
    "df_demography['Capital'] = df_demography['Country'].map(capital)\n",
    "\n",
    "# print the DataFrame\n",
    "df_demography"
   ]
  },
  {
   "cell_type": "markdown",
   "metadata": {},
   "source": [
    "**replace():**<br>\n",
    "It is used to replace any value in the dataframe."
   ]
  },
  {
   "cell_type": "code",
   "execution_count": 51,
   "metadata": {},
   "outputs": [
    {
     "data": {
      "text/html": [
       "<div>\n",
       "<style scoped>\n",
       "    .dataframe tbody tr th:only-of-type {\n",
       "        vertical-align: middle;\n",
       "    }\n",
       "\n",
       "    .dataframe tbody tr th {\n",
       "        vertical-align: top;\n",
       "    }\n",
       "\n",
       "    .dataframe thead th {\n",
       "        text-align: right;\n",
       "    }\n",
       "</style>\n",
       "<table border=\"1\" class=\"dataframe\">\n",
       "  <thead>\n",
       "    <tr style=\"text-align: right;\">\n",
       "      <th></th>\n",
       "      <th>Country</th>\n",
       "      <th>Population</th>\n",
       "      <th>Capital</th>\n",
       "    </tr>\n",
       "  </thead>\n",
       "  <tbody>\n",
       "    <tr>\n",
       "      <td>0</td>\n",
       "      <td>China</td>\n",
       "      <td>1403500365</td>\n",
       "      <td>Beijing</td>\n",
       "    </tr>\n",
       "    <tr>\n",
       "      <td>1</td>\n",
       "      <td>India</td>\n",
       "      <td>1324171354</td>\n",
       "      <td>New Delhi</td>\n",
       "    </tr>\n",
       "    <tr>\n",
       "      <td>2</td>\n",
       "      <td>USA</td>\n",
       "      <td>322179605</td>\n",
       "      <td>Washington</td>\n",
       "    </tr>\n",
       "    <tr>\n",
       "      <td>3</td>\n",
       "      <td>Indonesia</td>\n",
       "      <td>261115456</td>\n",
       "      <td>Jakarta</td>\n",
       "    </tr>\n",
       "    <tr>\n",
       "      <td>4</td>\n",
       "      <td>Brazil</td>\n",
       "      <td>207652865</td>\n",
       "      <td>Brasília</td>\n",
       "    </tr>\n",
       "  </tbody>\n",
       "</table>\n",
       "</div>"
      ],
      "text/plain": [
       "     Country  Population     Capital\n",
       "0      China  1403500365     Beijing\n",
       "1      India  1324171354   New Delhi\n",
       "2        USA   322179605  Washington\n",
       "3  Indonesia   261115456     Jakarta\n",
       "4     Brazil   207652865    Brasília"
      ]
     },
     "execution_count": 51,
     "metadata": {},
     "output_type": "execute_result"
    }
   ],
   "source": [
    "# print the DataFrame\n",
    "df_demography"
   ]
  },
  {
   "cell_type": "code",
   "execution_count": 52,
   "metadata": {},
   "outputs": [
    {
     "name": "stdout",
     "output_type": "stream",
     "text": [
      "     Country  Population     Capital\n",
      "0      China  1403500365     Beijing\n",
      "1      India  1324171354   New Delhi\n",
      "2        USA         NaN  Washington\n",
      "3  Indonesia   261115456     Jakarta\n",
      "4     Brazil          --    Brasília\n"
     ]
    }
   ],
   "source": [
    "dictionary = {322179605: \"NaN\", 207652865: \"--\"}\n",
    "\n",
    "# values 322179605 and 207652865 are replaced by 'NaN' and '--'\n",
    "df_demography['Population'].replace(dictionary, inplace = True)\n",
    "\n",
    "print(df_demography)"
   ]
  },
  {
   "cell_type": "markdown",
   "metadata": {},
   "source": [
    "<a id=\"Groupby\"> </a>\n",
    "### 8. Groupby in Pandas"
   ]
  },
  {
   "cell_type": "code",
   "execution_count": 53,
   "metadata": {},
   "outputs": [
    {
     "name": "stdout",
     "output_type": "stream",
     "text": [
      "   Product_ID Food_Product           Brand  Sales  Profit\n",
      "0         101        Cakes  Baskin Robbins   5000   55000\n",
      "1         102     Biscuits     Blue Riband   8000   67000\n",
      "2         103        Fruit           Peach   7600   89000\n",
      "3         104    Beverages        Horlicks   5500   78000\n",
      "4         105        Cakes     Mars Muffin   6500   55000\n",
      "5         106    Beverages         Mirinda   9000   90000\n"
     ]
    }
   ],
   "source": [
    "# create a DataFrame\n",
    "df_products = pd.DataFrame({ 'Product_ID':[101,102,103,104,105,106],\n",
    " 'Food_Product':['Cakes','Biscuits','Fruit','Beverages','Cakes','Beverages'],\n",
    " 'Brand':['Baskin Robbins','Blue Riband','Peach','Horlicks','Mars Muffin','Mirinda'],\n",
    " 'Sales': [5000, 8000, 7600, 5500, 6500, 9000],\n",
    " 'Profit': [55000, 67000, 89000, 78000, 55000, 90000] })\n",
    "\n",
    "# print the DataFrame\n",
    "print(df_products)"
   ]
  },
  {
   "cell_type": "markdown",
   "metadata": {},
   "source": [
    "**Number of unique values in each column**"
   ]
  },
  {
   "cell_type": "code",
   "execution_count": 54,
   "metadata": {},
   "outputs": [],
   "source": [
    "df_products_grouped = df_products.groupby(\"Food_Product\")"
   ]
  },
  {
   "cell_type": "code",
   "execution_count": 55,
   "metadata": {},
   "outputs": [
    {
     "data": {
      "text/plain": [
       "pandas.core.groupby.generic.DataFrameGroupBy"
      ]
     },
     "execution_count": 55,
     "metadata": {},
     "output_type": "execute_result"
    }
   ],
   "source": [
    "type(df_products_grouped)"
   ]
  },
  {
   "cell_type": "markdown",
   "metadata": {},
   "source": [
    "**Note:** The groupby() applied on a pandas DataFrame returns a `DataFrameGroupBy` object"
   ]
  },
  {
   "cell_type": "code",
   "execution_count": 56,
   "metadata": {},
   "outputs": [
    {
     "data": {
      "text/html": [
       "<div>\n",
       "<style scoped>\n",
       "    .dataframe tbody tr th:only-of-type {\n",
       "        vertical-align: middle;\n",
       "    }\n",
       "\n",
       "    .dataframe tbody tr th {\n",
       "        vertical-align: top;\n",
       "    }\n",
       "\n",
       "    .dataframe thead th {\n",
       "        text-align: right;\n",
       "    }\n",
       "</style>\n",
       "<table border=\"1\" class=\"dataframe\">\n",
       "  <thead>\n",
       "    <tr style=\"text-align: right;\">\n",
       "      <th></th>\n",
       "      <th>Brand</th>\n",
       "    </tr>\n",
       "    <tr>\n",
       "      <th>Food_Product</th>\n",
       "      <th></th>\n",
       "    </tr>\n",
       "  </thead>\n",
       "  <tbody>\n",
       "    <tr>\n",
       "      <td>Beverages</td>\n",
       "      <td>2</td>\n",
       "    </tr>\n",
       "    <tr>\n",
       "      <td>Biscuits</td>\n",
       "      <td>1</td>\n",
       "    </tr>\n",
       "    <tr>\n",
       "      <td>Cakes</td>\n",
       "      <td>2</td>\n",
       "    </tr>\n",
       "    <tr>\n",
       "      <td>Fruit</td>\n",
       "      <td>1</td>\n",
       "    </tr>\n",
       "  </tbody>\n",
       "</table>\n",
       "</div>"
      ],
      "text/plain": [
       "              Brand\n",
       "Food_Product       \n",
       "Beverages         2\n",
       "Biscuits          1\n",
       "Cakes             2\n",
       "Fruit             1"
      ]
     },
     "execution_count": 56,
     "metadata": {},
     "output_type": "execute_result"
    }
   ],
   "source": [
    "# use the nunique() to find the number of unique values in each column\n",
    "# to_frame converts the data to a DataFrame\n",
    "df_products.groupby(\"Food_Product\")[\"Brand\"].nunique().to_frame()"
   ]
  },
  {
   "cell_type": "markdown",
   "metadata": {},
   "source": [
    "**Sort groupby results**"
   ]
  },
  {
   "cell_type": "markdown",
   "metadata": {},
   "source": [
    "Turn the groupby object into a regular dataframe by calling `.to_frame()`. It is then possible to re-index with `reset_index()`."
   ]
  },
  {
   "cell_type": "code",
   "execution_count": 57,
   "metadata": {},
   "outputs": [
    {
     "data": {
      "text/html": [
       "<div>\n",
       "<style scoped>\n",
       "    .dataframe tbody tr th:only-of-type {\n",
       "        vertical-align: middle;\n",
       "    }\n",
       "\n",
       "    .dataframe tbody tr th {\n",
       "        vertical-align: top;\n",
       "    }\n",
       "\n",
       "    .dataframe thead th {\n",
       "        text-align: right;\n",
       "    }\n",
       "</style>\n",
       "<table border=\"1\" class=\"dataframe\">\n",
       "  <thead>\n",
       "    <tr style=\"text-align: right;\">\n",
       "      <th></th>\n",
       "      <th>Food_Product</th>\n",
       "      <th>Sales</th>\n",
       "    </tr>\n",
       "  </thead>\n",
       "  <tbody>\n",
       "    <tr>\n",
       "      <td>0</td>\n",
       "      <td>Beverages</td>\n",
       "      <td>14500</td>\n",
       "    </tr>\n",
       "    <tr>\n",
       "      <td>1</td>\n",
       "      <td>Biscuits</td>\n",
       "      <td>8000</td>\n",
       "    </tr>\n",
       "    <tr>\n",
       "      <td>2</td>\n",
       "      <td>Cakes</td>\n",
       "      <td>11500</td>\n",
       "    </tr>\n",
       "    <tr>\n",
       "      <td>3</td>\n",
       "      <td>Fruit</td>\n",
       "      <td>7600</td>\n",
       "    </tr>\n",
       "  </tbody>\n",
       "</table>\n",
       "</div>"
      ],
      "text/plain": [
       "  Food_Product  Sales\n",
       "0    Beverages  14500\n",
       "1     Biscuits   8000\n",
       "2        Cakes  11500\n",
       "3        Fruit   7600"
      ]
     },
     "execution_count": 57,
     "metadata": {},
     "output_type": "execute_result"
    }
   ],
   "source": [
    "# use the nunique() to find number of unique values in each column\n",
    "# to_frame converts the data to a DataFrame\n",
    "# reset_index resets the index\n",
    "df_products.groupby('Food_Product')['Sales'].sum().to_frame().reset_index()"
   ]
  },
  {
   "cell_type": "markdown",
   "metadata": {},
   "source": [
    "Now, you call sort_values() to sort the values of the DataFrame."
   ]
  },
  {
   "cell_type": "code",
   "execution_count": 58,
   "metadata": {},
   "outputs": [
    {
     "data": {
      "text/html": [
       "<div>\n",
       "<style scoped>\n",
       "    .dataframe tbody tr th:only-of-type {\n",
       "        vertical-align: middle;\n",
       "    }\n",
       "\n",
       "    .dataframe tbody tr th {\n",
       "        vertical-align: top;\n",
       "    }\n",
       "\n",
       "    .dataframe thead th {\n",
       "        text-align: right;\n",
       "    }\n",
       "</style>\n",
       "<table border=\"1\" class=\"dataframe\">\n",
       "  <thead>\n",
       "    <tr style=\"text-align: right;\">\n",
       "      <th></th>\n",
       "      <th>Food_Product</th>\n",
       "      <th>Sales</th>\n",
       "    </tr>\n",
       "  </thead>\n",
       "  <tbody>\n",
       "    <tr>\n",
       "      <td>3</td>\n",
       "      <td>Fruit</td>\n",
       "      <td>7600</td>\n",
       "    </tr>\n",
       "    <tr>\n",
       "      <td>1</td>\n",
       "      <td>Biscuits</td>\n",
       "      <td>8000</td>\n",
       "    </tr>\n",
       "    <tr>\n",
       "      <td>2</td>\n",
       "      <td>Cakes</td>\n",
       "      <td>11500</td>\n",
       "    </tr>\n",
       "    <tr>\n",
       "      <td>0</td>\n",
       "      <td>Beverages</td>\n",
       "      <td>14500</td>\n",
       "    </tr>\n",
       "  </tbody>\n",
       "</table>\n",
       "</div>"
      ],
      "text/plain": [
       "  Food_Product  Sales\n",
       "3        Fruit   7600\n",
       "1     Biscuits   8000\n",
       "2        Cakes  11500\n",
       "0    Beverages  14500"
      ]
     },
     "execution_count": 58,
     "metadata": {},
     "output_type": "execute_result"
    }
   ],
   "source": [
    "# use the nunique() to find number of unique values in each column\n",
    "# to_frame converts the data to a DataFrame\n",
    "# reset_index resets the index\n",
    "# sort_values sorts the values \n",
    "# here by='Sales', implies that the values are sort by this variable\n",
    "df_products.groupby('Food_Product')['Sales'].sum().to_frame().reset_index().sort_values(by='Sales')"
   ]
  },
  {
   "cell_type": "markdown",
   "metadata": {},
   "source": [
    "<a id=\"matplotlib\"> </a>\n",
    "## 9. Plots using Matplotlib\n",
    "\n",
    "Matplotlib is a Python 2D plotting library. Many libraries are built based on it and use its functions in the backend. pyplot is a subpackage of matplotlib that provides a MATLAB-like way of plotting. <br><br>\n",
    "                        matplotlib.pyplot is a mostly used package because it is elementary to use, and it generates plots in less time."
   ]
  },
  {
   "cell_type": "markdown",
   "metadata": {
    "collapsed": true
   },
   "source": [
    "**How to install Matplotlib?**<br>\n",
    "1. You can use-<br>\n",
    "`!pip install matplotlib`<br>"
   ]
  },
  {
   "cell_type": "code",
   "execution_count": 33,
   "metadata": {},
   "outputs": [],
   "source": [
    "# import the library matplotlib\n",
    "import matplotlib.pyplot as plt\n",
    "# to suppress warnings\n",
    "# import the library warnings \n",
    "import warnings\n",
    "# filterwarnings() filters a warning \n",
    "# action: the action to be taken if a warning is shown\n",
    "warnings.filterwarnings(action = 'ignore')"
   ]
  },
  {
   "cell_type": "markdown",
   "metadata": {},
   "source": [
    "Seaborn library provides a variety of datasets. Plot different visualization plots using various libraries for the 'tips' dataset. "
   ]
  },
  {
   "cell_type": "code",
   "execution_count": 34,
   "metadata": {},
   "outputs": [
    {
     "data": {
      "text/html": [
       "<div>\n",
       "<style scoped>\n",
       "    .dataframe tbody tr th:only-of-type {\n",
       "        vertical-align: middle;\n",
       "    }\n",
       "\n",
       "    .dataframe tbody tr th {\n",
       "        vertical-align: top;\n",
       "    }\n",
       "\n",
       "    .dataframe thead th {\n",
       "        text-align: right;\n",
       "    }\n",
       "</style>\n",
       "<table border=\"1\" class=\"dataframe\">\n",
       "  <thead>\n",
       "    <tr style=\"text-align: right;\">\n",
       "      <th></th>\n",
       "      <th>total_bill</th>\n",
       "      <th>tip</th>\n",
       "      <th>sex</th>\n",
       "      <th>smoker</th>\n",
       "      <th>day</th>\n",
       "      <th>time</th>\n",
       "      <th>size</th>\n",
       "    </tr>\n",
       "  </thead>\n",
       "  <tbody>\n",
       "    <tr>\n",
       "      <td>0</td>\n",
       "      <td>16.99</td>\n",
       "      <td>1.01</td>\n",
       "      <td>Female</td>\n",
       "      <td>No</td>\n",
       "      <td>Sun</td>\n",
       "      <td>Dinner</td>\n",
       "      <td>2</td>\n",
       "    </tr>\n",
       "    <tr>\n",
       "      <td>1</td>\n",
       "      <td>10.34</td>\n",
       "      <td>1.66</td>\n",
       "      <td>Male</td>\n",
       "      <td>No</td>\n",
       "      <td>Sun</td>\n",
       "      <td>Dinner</td>\n",
       "      <td>3</td>\n",
       "    </tr>\n",
       "    <tr>\n",
       "      <td>2</td>\n",
       "      <td>21.01</td>\n",
       "      <td>3.50</td>\n",
       "      <td>Male</td>\n",
       "      <td>No</td>\n",
       "      <td>Sun</td>\n",
       "      <td>Dinner</td>\n",
       "      <td>3</td>\n",
       "    </tr>\n",
       "    <tr>\n",
       "      <td>3</td>\n",
       "      <td>23.68</td>\n",
       "      <td>3.31</td>\n",
       "      <td>Male</td>\n",
       "      <td>No</td>\n",
       "      <td>Sun</td>\n",
       "      <td>Dinner</td>\n",
       "      <td>2</td>\n",
       "    </tr>\n",
       "    <tr>\n",
       "      <td>4</td>\n",
       "      <td>24.59</td>\n",
       "      <td>3.61</td>\n",
       "      <td>Female</td>\n",
       "      <td>No</td>\n",
       "      <td>Sun</td>\n",
       "      <td>Dinner</td>\n",
       "      <td>4</td>\n",
       "    </tr>\n",
       "  </tbody>\n",
       "</table>\n",
       "</div>"
      ],
      "text/plain": [
       "   total_bill   tip     sex smoker  day    time  size\n",
       "0       16.99  1.01  Female     No  Sun  Dinner     2\n",
       "1       10.34  1.66    Male     No  Sun  Dinner     3\n",
       "2       21.01  3.50    Male     No  Sun  Dinner     3\n",
       "3       23.68  3.31    Male     No  Sun  Dinner     2\n",
       "4       24.59  3.61  Female     No  Sun  Dinner     4"
      ]
     },
     "execution_count": 34,
     "metadata": {},
     "output_type": "execute_result"
    }
   ],
   "source": [
    "# load the 'tips' dataset from seaborn\n",
    "df_tips = sns.load_dataset('tips')\n",
    "\n",
    "# display head() of the dataset\n",
    "df_tips.head()"
   ]
  },
  {
   "cell_type": "markdown",
   "metadata": {},
   "source": [
    "### 9.1 Line Plot\n",
    "A line graph is the most uncomplicated plot that displays the relationship between the one independent and one dependent dataset. In this plot, the points are joined by straight line segments."
   ]
  },
  {
   "cell_type": "code",
   "execution_count": 35,
   "metadata": {},
   "outputs": [
    {
     "data": {
      "image/png": "[encoded data removed]",
      "text/plain": [
       "<Figure size 432x288 with 1 Axes>"
      ]
     },
     "metadata": {
      "needs_background": "light"
     },
     "output_type": "display_data"
    }
   ],
   "source": [
    "# data\n",
    "# create an array using linspace\n",
    "X = np.linspace(1,20,100)\n",
    "# create an array by taking exponential of X\n",
    "Y = np.exp(X)\n",
    "\n",
    "# line plot\n",
    "plt.plot(X,Y)\n",
    "\n",
    "# display the plot\n",
    "plt.show()"
   ]
  },
  {
   "cell_type": "markdown",
   "metadata": {},
   "source": [
    "From the plot, it can be observed that as X increases, Y  increases exponential."
   ]
  },
  {
   "cell_type": "markdown",
   "metadata": {},
   "source": [
    "\n",
    "**The above plot can be represented not only by a solid line, but also a dotted line with varied thickness. The points can be marked explicitly using any symbol.**"
   ]
  },
  {
   "cell_type": "code",
   "execution_count": 36,
   "metadata": {
    "scrolled": true
   },
   "outputs": [
    {
     "data": {
      "image/png": "[encoded data removed]",
      "text/plain": [
       "<Figure size 432x288 with 1 Axes>"
      ]
     },
     "metadata": {
      "needs_background": "light"
     },
     "output_type": "display_data"
    }
   ],
   "source": [
    "# data\n",
    "# create an array using linspace\n",
    "X = np.linspace(1,20,100)\n",
    "# create an array by taking exponential of X\n",
    "Y = np.exp(X)\n",
    "\n",
    "# line plot\n",
    "# the argument 'r*' plots each point as a red '*' \n",
    "plt.plot(X,Y, 'r*')\n",
    "\n",
    "# display the plot\n",
    "plt.show()"
   ]
  },
  {
   "cell_type": "markdown",
   "metadata": {},
   "source": [
    "We can change the colours or shapes of the data points.\n",
    "\n",
    "There can be multiple line plots in one plot. Let us plot three plots together in a single graph. Also, add a plot title."
   ]
  },
  {
   "cell_type": "code",
   "execution_count": 37,
   "metadata": {},
   "outputs": [
    {
     "data": {
      "image/png": "[encoded data removed]",
      "text/plain": [
       "<Figure size 432x288 with 1 Axes>"
      ]
     },
     "metadata": {
      "needs_background": "light"
     },
     "output_type": "display_data"
    }
   ],
   "source": [
    "# data\n",
    "# create an array using linspace\n",
    "X = np.linspace(1,20,100)\n",
    "# create an array by taking square of X\n",
    "Y_square = np.square(X)\n",
    "# create an array by taking squareroot of X\n",
    "Y_sqrt = np.sqrt(X)\n",
    "\n",
    "# line plot\n",
    "plt.plot( X,Y_square,'b', X,Y_sqrt,'g')\n",
    "\n",
    "# add title to the plot\n",
    "plt.title('Line Plot')\n",
    "\n",
    "# display the plot\n",
    "plt.show()"
   ]
  },
  {
   "cell_type": "markdown",
   "metadata": {},
   "source": [
    "### 9.2 Scatter Plot\n",
    "\n",
    "A scatter plot is a set of points plotted on horizontal and vertical axes. The scatter plot can be used to study the correlation between the two variables. One can also detect the extreme data points using a scatter plot."
   ]
  },
  {
   "cell_type": "code",
   "execution_count": 38,
   "metadata": {},
   "outputs": [
    {
     "data": {
      "text/html": [
       "<div>\n",
       "<style scoped>\n",
       "    .dataframe tbody tr th:only-of-type {\n",
       "        vertical-align: middle;\n",
       "    }\n",
       "\n",
       "    .dataframe tbody tr th {\n",
       "        vertical-align: top;\n",
       "    }\n",
       "\n",
       "    .dataframe thead th {\n",
       "        text-align: right;\n",
       "    }\n",
       "</style>\n",
       "<table border=\"1\" class=\"dataframe\">\n",
       "  <thead>\n",
       "    <tr style=\"text-align: right;\">\n",
       "      <th></th>\n",
       "      <th>total_bill</th>\n",
       "      <th>tip</th>\n",
       "      <th>sex</th>\n",
       "      <th>smoker</th>\n",
       "      <th>day</th>\n",
       "      <th>time</th>\n",
       "      <th>size</th>\n",
       "    </tr>\n",
       "  </thead>\n",
       "  <tbody>\n",
       "    <tr>\n",
       "      <td>0</td>\n",
       "      <td>16.99</td>\n",
       "      <td>1.01</td>\n",
       "      <td>Female</td>\n",
       "      <td>No</td>\n",
       "      <td>Sun</td>\n",
       "      <td>Dinner</td>\n",
       "      <td>2</td>\n",
       "    </tr>\n",
       "    <tr>\n",
       "      <td>1</td>\n",
       "      <td>10.34</td>\n",
       "      <td>1.66</td>\n",
       "      <td>Male</td>\n",
       "      <td>No</td>\n",
       "      <td>Sun</td>\n",
       "      <td>Dinner</td>\n",
       "      <td>3</td>\n",
       "    </tr>\n",
       "    <tr>\n",
       "      <td>2</td>\n",
       "      <td>21.01</td>\n",
       "      <td>3.50</td>\n",
       "      <td>Male</td>\n",
       "      <td>No</td>\n",
       "      <td>Sun</td>\n",
       "      <td>Dinner</td>\n",
       "      <td>3</td>\n",
       "    </tr>\n",
       "    <tr>\n",
       "      <td>3</td>\n",
       "      <td>23.68</td>\n",
       "      <td>3.31</td>\n",
       "      <td>Male</td>\n",
       "      <td>No</td>\n",
       "      <td>Sun</td>\n",
       "      <td>Dinner</td>\n",
       "      <td>2</td>\n",
       "    </tr>\n",
       "    <tr>\n",
       "      <td>4</td>\n",
       "      <td>24.59</td>\n",
       "      <td>3.61</td>\n",
       "      <td>Female</td>\n",
       "      <td>No</td>\n",
       "      <td>Sun</td>\n",
       "      <td>Dinner</td>\n",
       "      <td>4</td>\n",
       "    </tr>\n",
       "  </tbody>\n",
       "</table>\n",
       "</div>"
      ],
      "text/plain": [
       "   total_bill   tip     sex smoker  day    time  size\n",
       "0       16.99  1.01  Female     No  Sun  Dinner     2\n",
       "1       10.34  1.66    Male     No  Sun  Dinner     3\n",
       "2       21.01  3.50    Male     No  Sun  Dinner     3\n",
       "3       23.68  3.31    Male     No  Sun  Dinner     2\n",
       "4       24.59  3.61  Female     No  Sun  Dinner     4"
      ]
     },
     "execution_count": 38,
     "metadata": {},
     "output_type": "execute_result"
    }
   ],
   "source": [
    "# check the head() of the tips dataset\n",
    "df_tips.head()"
   ]
  },
  {
   "cell_type": "markdown",
   "metadata": {},
   "source": [
    "Plot the scatter plot for the variables 'total_bill' and 'tip'"
   ]
  },
  {
   "cell_type": "code",
   "execution_count": 39,
   "metadata": {},
   "outputs": [
    {
     "data": {
      "image/png": "[encoded data removed]",
      "text/plain": [
       "<Figure size 1080x576 with 1 Axes>"
      ]
     },
     "metadata": {
      "needs_background": "light"
     },
     "output_type": "display_data"
    }
   ],
   "source": [
    "# data\n",
    "# let X be the column of total bill\n",
    "X = df_tips['total_bill']\n",
    "# let Y be the column of the tip collected\n",
    "Y = df_tips['tip']\n",
    "\n",
    "# set the plot size\n",
    "plt.figure(figsize=(15,8))\n",
    "\n",
    "# plot the scatter plot\n",
    "plt.scatter(X,Y)\n",
    "\n",
    "# add the axes labels to the plot\n",
    "plt.xlabel('total_bill')\n",
    "plt.ylabel('tip')\n",
    "\n",
    "# display the plot\n",
    "plt.show()"
   ]
  },
  {
   "cell_type": "markdown",
   "metadata": {},
   "source": [
    "We can add different colours, opacity, and shape of data points. Let us customize the above plot."
   ]
  },
  {
   "cell_type": "code",
   "execution_count": 40,
   "metadata": {},
   "outputs": [
    {
     "data": {
      "image/png": "[encoded data removed]",
      "text/plain": [
       "<Figure size 1080x576 with 1 Axes>"
      ]
     },
     "metadata": {
      "needs_background": "light"
     },
     "output_type": "display_data"
    }
   ],
   "source": [
    "# plot the scatter plot for the variables 'total_bill' and 'tip'\n",
    "\n",
    "# data\n",
    "# let X be the column of total bill\n",
    "X = df_tips['total_bill']\n",
    "# let Y be the column of the tip collected\n",
    "Y = df_tips['tip']\n",
    "\n",
    "# set the plot size\n",
    "plt.figure(figsize=(15,8))\n",
    "\n",
    "# plot the scatter plot\n",
    "# s is for shape, c is for colour, alpha is for opacity (0 < alpha < 1)\n",
    "plt.scatter(X, Y, s = np.array(Y)**2, c= 'green', alpha= 0.8)\n",
    "\n",
    "# add title \n",
    "plt.title('Scatter Plot')\n",
    "\n",
    "# add the axes labels to the plot\n",
    "plt.xlabel('total_bill')\n",
    "plt.ylabel('tip')\n",
    "\n",
    "# display the plot\n",
    "plt.show()"
   ]
  },
  {
   "cell_type": "markdown",
   "metadata": {},
   "source": [
    "The bubbles with higher radius display that the tip amount is more as compared to the bubbles with less radius."
   ]
  },
  {
   "cell_type": "markdown",
   "metadata": {},
   "source": [
    "### 9.3 Bar Plot\n",
    " To display categorical data use a  bar plot with bars having lengths proportional to the values that they represent. The comparison between different categories of a categorical variable can be made by studying a bar plot. <br><br>\n",
    "                        In the vertical bar plot, the X-axis displays the categorical variable, and Y-axis contains the values corresponding to different categories."
   ]
  },
  {
   "cell_type": "code",
   "execution_count": 41,
   "metadata": {},
   "outputs": [
    {
     "data": {
      "text/plain": [
       "{'No', 'Yes'}"
      ]
     },
     "execution_count": 41,
     "metadata": {},
     "output_type": "execute_result"
    }
   ],
   "source": [
    "# the variable 'smoker' is categorical\n",
    "# check categories in the variable\n",
    "set(df_tips['smoker'])"
   ]
  },
  {
   "cell_type": "code",
   "execution_count": 42,
   "metadata": {},
   "outputs": [
    {
     "data": {
      "image/png": "[encoded data removed]",
      "text/plain": [
       "<Figure size 432x288 with 1 Axes>"
      ]
     },
     "metadata": {
      "needs_background": "light"
     },
     "output_type": "display_data"
    }
   ],
   "source": [
    "# bar plot to get the count of smokers and non-smokers in the data\n",
    "\n",
    "# kind='bar' plots a bar plot\n",
    "# 'rot = 0' returns the categoric labels horizontally\n",
    "df_tips.smoker.value_counts().plot(kind='bar', rot = 0)\n",
    "\n",
    "# display the plot\n",
    "plt.show()"
   ]
  },
  {
   "cell_type": "markdown",
   "metadata": {},
   "source": [
    "Let us add the count of smokers and non-smokers, axes labels and title to the above plot."
   ]
  },
  {
   "cell_type": "code",
   "execution_count": 43,
   "metadata": {},
   "outputs": [
    {
     "data": {
      "image/png": "[encoded data removed]",
      "text/plain": [
       "<Figure size 1080x576 with 1 Axes>"
      ]
     },
     "metadata": {
      "needs_background": "light"
     },
     "output_type": "display_data"
    }
   ],
   "source": [
    "# bar plot to get the count of smokers and non-smokers in the data\n",
    "\n",
    "# set the plot size\n",
    "plt.figure(figsize=(15,8))\n",
    "\n",
    "# kind='bar' plots a bar plot\n",
    "# 'rot = 0' returns the categoric labels horizontally\n",
    "# 'color' can be used to add a specific colour\n",
    "df_tips.smoker.value_counts().plot(kind='bar', rot = 0, color = 'green')\n",
    "\n",
    "# plt.text() adds the text to the plot\n",
    "# x and y are positions on the axes\n",
    "# s is the text to be added\n",
    "plt.text(x = -0.05, y = df_tips.smoker.value_counts()[1]+1, s = df_tips.smoker.value_counts()[1])\n",
    "plt.text(x = 0.98, y = df_tips.smoker.value_counts()[0]+2, s = df_tips.smoker.value_counts()[0])\n",
    "\n",
    "# add plot title\n",
    "plt.title('Bar Plot')\n",
    "\n",
    "# add x-axis label\n",
    "plt.xlabel('Smoker')\n",
    "\n",
    "# add y-axis label\n",
    "plt.ylabel('Count')\n",
    "\n",
    "# display the plot\n",
    "plt.show()"
   ]
  },
  {
   "cell_type": "markdown",
   "metadata": {},
   "source": [
    "From the bar plot, we interpret that the proportion of non-smokers is more in the data."
   ]
  },
  {
   "cell_type": "markdown",
   "metadata": {},
   "source": [
    "### 9.4 Pie Plot\n",
    "Pie plot is a graphical representation of univariate data. It is a circular graph divided into slices displaying the numerical proportion. For the categorical variable, each slice of the pie plot corresponds to each of the categories."
   ]
  },
  {
   "cell_type": "code",
   "execution_count": 44,
   "metadata": {},
   "outputs": [
    {
     "data": {
      "text/html": [
       "<div>\n",
       "<style scoped>\n",
       "    .dataframe tbody tr th:only-of-type {\n",
       "        vertical-align: middle;\n",
       "    }\n",
       "\n",
       "    .dataframe tbody tr th {\n",
       "        vertical-align: top;\n",
       "    }\n",
       "\n",
       "    .dataframe thead th {\n",
       "        text-align: right;\n",
       "    }\n",
       "</style>\n",
       "<table border=\"1\" class=\"dataframe\">\n",
       "  <thead>\n",
       "    <tr style=\"text-align: right;\">\n",
       "      <th></th>\n",
       "      <th>total_bill</th>\n",
       "      <th>tip</th>\n",
       "      <th>sex</th>\n",
       "      <th>smoker</th>\n",
       "      <th>day</th>\n",
       "      <th>time</th>\n",
       "      <th>size</th>\n",
       "    </tr>\n",
       "  </thead>\n",
       "  <tbody>\n",
       "    <tr>\n",
       "      <td>0</td>\n",
       "      <td>16.99</td>\n",
       "      <td>1.01</td>\n",
       "      <td>Female</td>\n",
       "      <td>No</td>\n",
       "      <td>Sun</td>\n",
       "      <td>Dinner</td>\n",
       "      <td>2</td>\n",
       "    </tr>\n",
       "    <tr>\n",
       "      <td>1</td>\n",
       "      <td>10.34</td>\n",
       "      <td>1.66</td>\n",
       "      <td>Male</td>\n",
       "      <td>No</td>\n",
       "      <td>Sun</td>\n",
       "      <td>Dinner</td>\n",
       "      <td>3</td>\n",
       "    </tr>\n",
       "    <tr>\n",
       "      <td>2</td>\n",
       "      <td>21.01</td>\n",
       "      <td>3.50</td>\n",
       "      <td>Male</td>\n",
       "      <td>No</td>\n",
       "      <td>Sun</td>\n",
       "      <td>Dinner</td>\n",
       "      <td>3</td>\n",
       "    </tr>\n",
       "    <tr>\n",
       "      <td>3</td>\n",
       "      <td>23.68</td>\n",
       "      <td>3.31</td>\n",
       "      <td>Male</td>\n",
       "      <td>No</td>\n",
       "      <td>Sun</td>\n",
       "      <td>Dinner</td>\n",
       "      <td>2</td>\n",
       "    </tr>\n",
       "    <tr>\n",
       "      <td>4</td>\n",
       "      <td>24.59</td>\n",
       "      <td>3.61</td>\n",
       "      <td>Female</td>\n",
       "      <td>No</td>\n",
       "      <td>Sun</td>\n",
       "      <td>Dinner</td>\n",
       "      <td>4</td>\n",
       "    </tr>\n",
       "  </tbody>\n",
       "</table>\n",
       "</div>"
      ],
      "text/plain": [
       "   total_bill   tip     sex smoker  day    time  size\n",
       "0       16.99  1.01  Female     No  Sun  Dinner     2\n",
       "1       10.34  1.66    Male     No  Sun  Dinner     3\n",
       "2       21.01  3.50    Male     No  Sun  Dinner     3\n",
       "3       23.68  3.31    Male     No  Sun  Dinner     2\n",
       "4       24.59  3.61  Female     No  Sun  Dinner     4"
      ]
     },
     "execution_count": 44,
     "metadata": {},
     "output_type": "execute_result"
    }
   ],
   "source": [
    "# check the head() of the tips dataset\n",
    "df_tips.head()"
   ]
  },
  {
   "cell_type": "code",
   "execution_count": 45,
   "metadata": {
    "scrolled": true
   },
   "outputs": [
    {
     "data": {
      "text/plain": [
       "Sat     87\n",
       "Sun     76\n",
       "Thur    62\n",
       "Fri     19\n",
       "Name: day, dtype: int64"
      ]
     },
     "execution_count": 45,
     "metadata": {},
     "output_type": "execute_result"
    }
   ],
   "source": [
    "# categories in the 'day' variable\n",
    "df_tips.day.value_counts()"
   ]
  },
  {
   "cell_type": "code",
   "execution_count": 46,
   "metadata": {},
   "outputs": [
    {
     "data": {
      "image/png": "[encoded data removed]",
      "text/plain": [
       "<Figure size 432x288 with 1 Axes>"
      ]
     },
     "metadata": {},
     "output_type": "display_data"
    }
   ],
   "source": [
    "# plot the occurrence of different days in the dataset\n",
    "\n",
    "# 'autopct' displays the percentage upto 1 decimal place\n",
    "# 'radius' sets the radius of the pie plot\n",
    "# 'labels' are the labels given to each section \n",
    "plt.pie(df_tips.day.value_counts(), autopct = '%.1f%%', radius = 1.2, labels = ['Sat', 'Sun','Thur','Fri'])\n",
    "\n",
    "# display the plot\n",
    "plt.show()"
   ]
  },
  {
   "cell_type": "markdown",
   "metadata": {},
   "source": [
    "From the above pie plot, we see that the data has a high proportion for Saturday followed by Sunday.\n"
   ]
  },
  {
   "cell_type": "markdown",
   "metadata": {},
   "source": [
    "**Exploded pie plot** is a plot in which one or more sectors are separated from the disc"
   ]
  },
  {
   "cell_type": "code",
   "execution_count": 47,
   "metadata": {},
   "outputs": [
    {
     "data": {
      "image/png": "[encoded data removed]",
      "text/plain": [
       "<Figure size 432x288 with 1 Axes>"
      ]
     },
     "metadata": {},
     "output_type": "display_data"
    }
   ],
   "source": [
    "# plot the occurrence of different days in the dataset\n",
    "\n",
    "# 'autopct' displays the percentage upto 1 decimal place\n",
    "# 'radius' sets the radius of the pie plot\n",
    "# 'labels' are the labels given to each section \n",
    "# 'explode' specifies the radius with which to offset each section\n",
    "plt.pie(df_tips.day.value_counts(), autopct = '%.1f%%', radius = 1.2, labels = ['Sat', 'Sun','Thur','Fri'],\n",
    "        explode = [0,0,0,0.5])\n",
    "\n",
    "# display the plot\n",
    "plt.show()"
   ]
  },
  {
   "cell_type": "markdown",
   "metadata": {},
   "source": [
    "**Donut pie plot** is a type of pie plot in which there is a hollow center representing a doughnut."
   ]
  },
  {
   "cell_type": "code",
   "execution_count": 48,
   "metadata": {},
   "outputs": [
    {
     "data": {
      "image/png": "[encoded data removed]",
      "text/plain": [
       "<Figure size 432x288 with 1 Axes>"
      ]
     },
     "metadata": {},
     "output_type": "display_data"
    }
   ],
   "source": [
    "# plot the occurrence of different days in the dataset\n",
    "\n",
    "# pie plot\n",
    "# 'autopct' displays the percentage upto 1 decimal place\n",
    "# 'radius' sets the radius of the pie plot\n",
    "# 'labels' are the labels given to each section \n",
    "plt.pie(df_tips.day.value_counts(), autopct = '%.1f%%', radius = 1.2, labels = ['Sat', 'Sun','Thur','Fri'])\n",
    "\n",
    "# add a circle at the center\n",
    "\n",
    "circle =  plt.Circle( (0,0), radius = 0.5, color='white')\n",
    "plot = plt.gcf()\n",
    "plot.gca().add_artist(circle)\n",
    " \n",
    "# display the plot\n",
    "plt.show()"
   ]
  },
  {
   "cell_type": "markdown",
   "metadata": {},
   "source": [
    "### 9.5 Histogram\n",
    "A histogram is used to display the distribution and spread of the continuous variable. One axis represents the range of variable, and the other axis shows the frequency of the data points. In a histogram, there are no gaps between the bars."
   ]
  },
  {
   "cell_type": "markdown",
   "metadata": {},
   "source": [
    "In tips dataset, 'tip' is the continuous variable. Let us plot the histogram to understand the distribution of the variable."
   ]
  },
  {
   "cell_type": "code",
   "execution_count": 49,
   "metadata": {},
   "outputs": [
    {
     "data": {
      "image/png": "[encoded data removed]",
      "text/plain": [
       "<Figure size 432x288 with 1 Axes>"
      ]
     },
     "metadata": {
      "needs_background": "light"
     },
     "output_type": "display_data"
    }
   ],
   "source": [
    "# plot the histogram\n",
    "# specify the number of bins, using 'bins' parameter\n",
    "plt.hist(df_tips['tip'], bins= 5)\n",
    "\n",
    "# add the graph title \n",
    "plt.title('Distribution of tip amount')\n",
    "\n",
    "# add th x-axis label\n",
    "plt.xlabel('tip')\n",
    "\n",
    "# # add th y-axis label\n",
    "plt.ylabel('Frequency')\n",
    "\n",
    "# display the plot\n",
    "plt.show()"
   ]
  },
  {
   "cell_type": "markdown",
   "metadata": {},
   "source": [
    "From the above plot, we can see that the tip amount is positively skewed. "
   ]
  },
  {
   "cell_type": "markdown",
   "metadata": {},
   "source": [
    "### 9.6 Box Plot\n",
    "Boxplot is a way to visualize the five-number summary of the variable. The five-number summary includes the numerical quantities like minimum, first quartile (Q1), median (Q2), third quartile (Q3), and maximum. It gives information about the outliers in the data. Detecting and removing outliers is one of the essential steps in exploratory data analysis. Boxplots also tells about the distribution of the data."
   ]
  },
  {
   "cell_type": "markdown",
   "metadata": {},
   "source": [
    "Plot the boxplot of 'total_bill' to check the distribution and presence of outliers in the variable."
   ]
  },
  {
   "cell_type": "code",
   "execution_count": 50,
   "metadata": {},
   "outputs": [
    {
     "data": {
      "image/png": "[encoded data removed]",
      "text/plain": [
       "<Figure size 432x288 with 1 Axes>"
      ]
     },
     "metadata": {
      "needs_background": "light"
     },
     "output_type": "display_data"
    }
   ],
   "source": [
    "# plot a boxplot of total bill\n",
    "plt.boxplot(df_tips['total_bill'])\n",
    "\n",
    "# add labels for five number summary using text()\n",
    "# x is location on x-axis\n",
    "# y is the location on y-axis\n",
    "# s is the text \n",
    "plt.text(x = 1.1, y = df_tips['total_bill'].min(), s ='min')              # for minimun\n",
    "plt.text(x = 1.1, y = df_tips.total_bill.quantile(0.25), s ='Q1')         # for quartile 1\n",
    "plt.text(x = 1.1, y = df_tips['total_bill'].median(), s ='median (Q2)')   # for quartile 2\n",
    "plt.text(x = 1.1, y = df_tips.total_bill.quantile(0.75), s ='Q3')         # for quartile 3\n",
    "plt.text(x = 1.1, y = df_tips['total_bill'].max(), s ='max')              # for maximum\n",
    "\n",
    "\n",
    "# add the graph title \n",
    "plt.title('Boxplot of Total Bill Amount')\n",
    "\n",
    "# add the y-axis label\n",
    "plt.ylabel('Total bill')\n",
    "\n",
    "# display the plot\n",
    "plt.show()"
   ]
  },
  {
   "cell_type": "markdown",
   "metadata": {},
   "source": [
    "The above boxplot clearly shows the presence of outliers above the horizontal line. We can add an arrow to showcase the outliers. Also, the median (Q2) is represented by the orange line, which is nearer to Q1 than Q3, indicating that the total bill is positively skewed."
   ]
  },
  {
   "cell_type": "code",
   "execution_count": 51,
   "metadata": {},
   "outputs": [
    {
     "data": {
      "image/png": "[encoded data removed]",
      "text/plain": [
       "<Figure size 432x288 with 1 Axes>"
      ]
     },
     "metadata": {
      "needs_background": "light"
     },
     "output_type": "display_data"
    }
   ],
   "source": [
    "# plot a distribution of total bill\n",
    "plt.boxplot(df_tips['total_bill'])\n",
    "\n",
    "# add labels for five number summary using text()\n",
    "# x is location on x-axis\n",
    "# y is the location on y-axis\n",
    "# s is the text \n",
    "plt.text(x = 1.1, y = df_tips['total_bill'].min(), s ='min')              # for minimun\n",
    "plt.text(x = 1.1, y = df_tips.total_bill.quantile(0.25), s ='Q1')         # for quartile 1\n",
    "plt.text(x = 1.1, y = df_tips['total_bill'].median(), s ='median (Q2)')   # for quartile 2\n",
    "plt.text(x = 1.1, y = df_tips.total_bill.quantile(0.75), s ='Q3')         # for quartile 3\n",
    "plt.text(x = 1.1, y = df_tips['total_bill'].max(), s ='max')              # for maximum\n",
    "\n",
    "# add an arrow (annonate) to show the outliers\n",
    "# xy is the location of the head of the arrow\n",
    "# xytext is the location of the text\n",
    "# arrowprops specify the properties of the arrow\n",
    "# facecolor specifies the arrow color\n",
    "# arrowstyle specifies the arrow stype\n",
    "plt.annotate('Outliers', xy = (0.98,45),xytext=(0.7, 44), arrowprops = dict(facecolor='black', arrowstyle = 'simple'))\n",
    "\n",
    "# add the graph title \n",
    "plt.title('Boxplot of Total Bill Amount')\n",
    "# add the y-axis label\n",
    "plt.ylabel('Total bill')\n",
    "\n",
    "# display the plot\n",
    "plt.show()"
   ]
  },
  {
   "cell_type": "markdown",
   "metadata": {},
   "source": [
    "### 9.7 Area Plot\n",
    "Area plot is a graphical representation of quantitative data based on the line plot. The area under the line plot is shaded. <br>\n",
    "                        Usually, it is used to compare the two or more quantities."
   ]
  },
  {
   "cell_type": "code",
   "execution_count": 52,
   "metadata": {
    "scrolled": true
   },
   "outputs": [
    {
     "data": {
      "image/png": "[encoded data removed]",
      "text/plain": [
       "<Figure size 432x288 with 1 Axes>"
      ]
     },
     "metadata": {
      "needs_background": "light"
     },
     "output_type": "display_data"
    }
   ],
   "source": [
    "# value_counts counts the number of observations for each day\n",
    "# sorts the index - thursday to be first\n",
    "# plot.area() plots area plot\n",
    "df_tips['day'].value_counts().sort_index().plot.area() \n",
    "\n",
    "# display the plot\n",
    "plt.show()"
   ]
  },
  {
   "cell_type": "markdown",
   "metadata": {},
   "source": [
    "The above plot gives the count of observations for each day. We see that the highest number of tips collected are on Saturday. "
   ]
  }
 ],
 "metadata": {
  "kernelspec": {
   "display_name": "Python 3",
   "language": "python",
   "name": "python3"
  },
  "language_info": {
   "codemirror_mode": {
    "name": "ipython",
    "version": 3
   },
   "file_extension": ".py",
   "mimetype": "text/x-python",
   "name": "python",
   "nbconvert_exporter": "python",
   "pygments_lexer": "ipython3",
   "version": "3.8.5"
  }
 },
 "nbformat": 4,
 "nbformat_minor": 2
}
